{
 "cells": [
  {
   "cell_type": "code",
   "execution_count": 6,
   "id": "6006f580",
   "metadata": {},
   "outputs": [],
   "source": [
    "import numpy as np\n",
    "import pandas as pd\n",
    "from scipy import stats\n",
    "import os\n"
   ]
  },
  {
   "cell_type": "code",
   "execution_count": 2,
   "id": "db002c3d",
   "metadata": {},
   "outputs": [],
   "source": [
    "data_1 = pd.read_csv('data-1.csv')\n",
    "data_2 = pd.read_csv('data-2.csv')\n",
    "data_3 = pd.read_csv('data-3.csv')\n",
    "data_4 = pd.read_csv('data-4.csv')\n",
    "data_5 = pd.read_csv('data-5.csv')\n",
    "data_6 = pd.read_csv('data-6.csv')"
   ]
  },
  {
   "cell_type": "code",
   "execution_count": 14,
   "id": "72adf812",
   "metadata": {},
   "outputs": [],
   "source": [
    "def get_summary_data(data, name): #returns the summary dataframe\n",
    "    summary = pd.DataFrame(\n",
    "    {\n",
    "        'mean_x': data['x'].mean(),\n",
    "        'mean_y' : data['y'].mean(),\n",
    "        'std_x' : data['x'].std(),\n",
    "        'std_y' : data['y'].std(),\n",
    "        'range' : str([data['x'].max(), data['x'].min()]),\n",
    "        'corr_coeff' : stats.linregress(data['x'], data['y']).rvalue\n",
    "    },\n",
    "        index=[name]\n",
    "    ) \n",
    "    return summary"
   ]
  },
  {
   "cell_type": "code",
   "execution_count": 16,
   "id": "3af76cc0",
   "metadata": {},
   "outputs": [
    {
     "data": {
      "text/html": [
       "<div>\n",
       "<style scoped>\n",
       "    .dataframe tbody tr th:only-of-type {\n",
       "        vertical-align: middle;\n",
       "    }\n",
       "\n",
       "    .dataframe tbody tr th {\n",
       "        vertical-align: top;\n",
       "    }\n",
       "\n",
       "    .dataframe thead th {\n",
       "        text-align: right;\n",
       "    }\n",
       "</style>\n",
       "<table border=\"1\" class=\"dataframe\">\n",
       "  <thead>\n",
       "    <tr style=\"text-align: right;\">\n",
       "      <th></th>\n",
       "      <th>mean_x</th>\n",
       "      <th>mean_y</th>\n",
       "      <th>std_x</th>\n",
       "      <th>std_y</th>\n",
       "      <th>range</th>\n",
       "      <th>corr_coeff</th>\n",
       "    </tr>\n",
       "  </thead>\n",
       "  <tbody>\n",
       "    <tr>\n",
       "      <th>data_1</th>\n",
       "      <td>8.717696</td>\n",
       "      <td>12.522874</td>\n",
       "      <td>12.155517</td>\n",
       "      <td>6.639964</td>\n",
       "      <td>[35.23705548785129, -22.635877790008944]</td>\n",
       "      <td>0.950326</td>\n",
       "    </tr>\n",
       "    <tr>\n",
       "      <th>data_2</th>\n",
       "      <td>-0.710787</td>\n",
       "      <td>-0.748987</td>\n",
       "      <td>11.481584</td>\n",
       "      <td>6.257918</td>\n",
       "      <td>[27.6470003722073, -33.2711130771198]</td>\n",
       "      <td>0.955153</td>\n",
       "    </tr>\n",
       "    <tr>\n",
       "      <th>data_3</th>\n",
       "      <td>0.968907</td>\n",
       "      <td>8.508535</td>\n",
       "      <td>2.235558</td>\n",
       "      <td>1.149301</td>\n",
       "      <td>[4.51888491755363, -2.4490643296742807]</td>\n",
       "      <td>0.981937</td>\n",
       "    </tr>\n",
       "    <tr>\n",
       "      <th>data_4</th>\n",
       "      <td>49.905086</td>\n",
       "      <td>18.553837</td>\n",
       "      <td>28.508611</td>\n",
       "      <td>16.545896</td>\n",
       "      <td>[87.3767, 0.0]</td>\n",
       "      <td>-0.081193</td>\n",
       "    </tr>\n",
       "    <tr>\n",
       "      <th>data_5</th>\n",
       "      <td>49.909994</td>\n",
       "      <td>18.555525</td>\n",
       "      <td>28.500001</td>\n",
       "      <td>16.540796</td>\n",
       "      <td>[91.0528633396976, 4.337892453674525]</td>\n",
       "      <td>-0.088236</td>\n",
       "    </tr>\n",
       "    <tr>\n",
       "      <th>data_6</th>\n",
       "      <td>7.216155</td>\n",
       "      <td>7.602215</td>\n",
       "      <td>11.921599</td>\n",
       "      <td>11.764382</td>\n",
       "      <td>[35.402138910929, -24.33382075234097]</td>\n",
       "      <td>0.935069</td>\n",
       "    </tr>\n",
       "  </tbody>\n",
       "</table>\n",
       "</div>"
      ],
      "text/plain": [
       "           mean_x     mean_y      std_x      std_y  \\\n",
       "data_1   8.717696  12.522874  12.155517   6.639964   \n",
       "data_2  -0.710787  -0.748987  11.481584   6.257918   \n",
       "data_3   0.968907   8.508535   2.235558   1.149301   \n",
       "data_4  49.905086  18.553837  28.508611  16.545896   \n",
       "data_5  49.909994  18.555525  28.500001  16.540796   \n",
       "data_6   7.216155   7.602215  11.921599  11.764382   \n",
       "\n",
       "                                           range  corr_coeff  \n",
       "data_1  [35.23705548785129, -22.635877790008944]    0.950326  \n",
       "data_2     [27.6470003722073, -33.2711130771198]    0.955153  \n",
       "data_3   [4.51888491755363, -2.4490643296742807]    0.981937  \n",
       "data_4                            [87.3767, 0.0]   -0.081193  \n",
       "data_5     [91.0528633396976, 4.337892453674525]   -0.088236  \n",
       "data_6     [35.402138910929, -24.33382075234097]    0.935069  "
      ]
     },
     "execution_count": 16,
     "metadata": {},
     "output_type": "execute_result"
    }
   ],
   "source": [
    "summary = get_summary_data(data_1, 'data_1')\n",
    "summary = summary.append(get_summary_data(data_2, 'data_2'))\n",
    "summary = summary.append(get_summary_data(data_3, 'data_3'))\n",
    "summary = summary.append(get_summary_data(data_4, 'data_4'))\n",
    "summary = summary.append(get_summary_data(data_5, 'data_5'))\n",
    "summary = summary.append(get_summary_data(data_6, 'data_6'))\n",
    "summary"
   ]
  },
  {
   "cell_type": "code",
   "execution_count": null,
   "id": "c25ccdda",
   "metadata": {},
   "outputs": [],
   "source": [
    "filename = 'summary.txt'\n",
    "with open(os.path.join( filename),'w') as outfile:\n",
    "    summary.to_string(outfile)"
   ]
  }
 ],
 "metadata": {
  "kernelspec": {
   "display_name": "Python 3",
   "language": "python",
   "name": "python3"
  },
  "language_info": {
   "codemirror_mode": {
    "name": "ipython",
    "version": 3
   },
   "file_extension": ".py",
   "mimetype": "text/x-python",
   "name": "python",
   "nbconvert_exporter": "python",
   "pygments_lexer": "ipython3",
   "version": "3.8.0"
  }
 },
 "nbformat": 4,
 "nbformat_minor": 5
}
