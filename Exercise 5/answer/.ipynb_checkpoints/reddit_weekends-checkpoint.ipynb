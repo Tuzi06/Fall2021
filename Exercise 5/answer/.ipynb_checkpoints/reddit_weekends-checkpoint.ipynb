{
 "cells": [
  {
   "cell_type": "code",
   "execution_count": 1,
   "id": "20101325",
   "metadata": {},
   "outputs": [],
   "source": [
    "import pandas as pd\n",
    "import sys\n",
    "import gzip\n",
    "import numpy as np\n",
    "import matplotlib.pyplot as plt\n",
    "import scipy.stats as stats\n",
    "import datetime \n"
   ]
  },
  {
   "cell_type": "code",
   "execution_count": 2,
   "id": "f3ba5e09",
   "metadata": {},
   "outputs": [],
   "source": [
    "OUTPUT_TEMPLATE = (\n",
    "    \"Initial T-test p-value: {initial_ttest_p:.3g}\\n\"\n",
    "    \"Original data normality p-values: {initial_weekday_normality_p:.3g} {initial_weekend_normality_p:.3g}\\n\"\n",
    "    \"Original data equal-variance p-value: {initial_levene_p:.3g}\\n\"\n",
    "    \"Transformed data normality p-values: {transformed_weekday_normality_p:.3g} {transformed_weekend_normality_p:.3g}\\n\"\n",
    "    \"Transformed data equal-variance p-value: {transformed_levene_p:.3g}\\n\"\n",
    "    \"Weekly data normality p-values: {weekly_weekday_normality_p:.3g} {weekly_weekend_normality_p:.3g}\\n\"\n",
    "    \"Weekly data equal-variance p-value: {weekly_levene_p:.3g}\\n\"\n",
    "    \"Weekly T-test p-value: {weekly_ttest_p:.3g}\\n\"\n",
    "    \"Mann-Whitney U-test p-value: {utest_p:.3g}\"\n",
    ")"
   ]
  },
  {
   "cell_type": "code",
   "execution_count": 3,
   "id": "5e9b4098",
   "metadata": {},
   "outputs": [],
   "source": [
    "# def main():\n",
    "#     #reddit_counts = sys.argv[1]\n",
    "#     #reddit = gzip.open(reddit_counts, 'rt', encoding = 'utf-8')\n",
    "\n",
    "\n",
    "#     #counts = pd.read_json(reddit, lines=True)\n",
    "#     reddit=\"reddit-counts.json.gz\"\n",
    "#     counts = pd.read_json(reddit, lines=True)\n",
    "\n",
    "#     print(OUTPUT_TEMPLATE.format(\n",
    "#         initial_ttest_p=0,\n",
    "#         initial_weekday_normality_p=0,\n",
    "#         initial_weekend_normality_p=0,\n",
    "#         initial_levene_p=0,\n",
    "#         transformed_weekday_normality_p=0,\n",
    "#         transformed_weekend_normality_p=0,\n",
    "#         transformed_levene_p=0,\n",
    "#         weekly_weekday_normality_p=0,\n",
    "#         weekly_weekend_normality_p=0,\n",
    "#         weekly_levene_p=0,\n",
    "#         weekly_ttest_p=0,\n",
    "#         utest_p=0,\n",
    "#     ))"
   ]
  },
  {
   "cell_type": "code",
   "execution_count": 4,
   "id": "701d87ed",
   "metadata": {},
   "outputs": [],
   "source": [
    "reddit=gzip.open('reddit-counts.json.gz', 'rt', encoding='utf-8')\n",
    "counts = pd.read_json(reddit, lines=True)\n"
   ]
  },
  {
   "cell_type": "code",
   "execution_count": 5,
   "id": "79730602",
   "metadata": {},
   "outputs": [],
   "source": [
    "# counts = counts[counts['date'] >= datetime.datetime(2012,1,1)]\n",
    "# counts = counts[counts['date'] <= datetime.datetime(2013,12,31)]\n",
    "# counts = counts[counts['subreddit'] == 'canada'].reset_index(drop=True)\n",
    "# counts"
   ]
  },
  {
   "cell_type": "code",
   "execution_count": 6,
   "id": "aa5ff61d",
   "metadata": {},
   "outputs": [
    {
     "data": {
      "text/html": [
       "<div>\n",
       "<style scoped>\n",
       "    .dataframe tbody tr th:only-of-type {\n",
       "        vertical-align: middle;\n",
       "    }\n",
       "\n",
       "    .dataframe tbody tr th {\n",
       "        vertical-align: top;\n",
       "    }\n",
       "\n",
       "    .dataframe thead th {\n",
       "        text-align: right;\n",
       "    }\n",
       "</style>\n",
       "<table border=\"1\" class=\"dataframe\">\n",
       "  <thead>\n",
       "    <tr style=\"text-align: right;\">\n",
       "      <th></th>\n",
       "      <th>date</th>\n",
       "      <th>subreddit</th>\n",
       "      <th>comment_count</th>\n",
       "    </tr>\n",
       "  </thead>\n",
       "  <tbody>\n",
       "    <tr>\n",
       "      <th>0</th>\n",
       "      <td>2013-03-14</td>\n",
       "      <td>canada</td>\n",
       "      <td>1657</td>\n",
       "    </tr>\n",
       "    <tr>\n",
       "      <th>1</th>\n",
       "      <td>2013-07-08</td>\n",
       "      <td>canada</td>\n",
       "      <td>1369</td>\n",
       "    </tr>\n",
       "    <tr>\n",
       "      <th>2</th>\n",
       "      <td>2012-07-04</td>\n",
       "      <td>canada</td>\n",
       "      <td>1343</td>\n",
       "    </tr>\n",
       "    <tr>\n",
       "      <th>3</th>\n",
       "      <td>2013-03-11</td>\n",
       "      <td>canada</td>\n",
       "      <td>1619</td>\n",
       "    </tr>\n",
       "    <tr>\n",
       "      <th>4</th>\n",
       "      <td>2013-09-11</td>\n",
       "      <td>canada</td>\n",
       "      <td>1909</td>\n",
       "    </tr>\n",
       "    <tr>\n",
       "      <th>...</th>\n",
       "      <td>...</td>\n",
       "      <td>...</td>\n",
       "      <td>...</td>\n",
       "    </tr>\n",
       "    <tr>\n",
       "      <th>726</th>\n",
       "      <td>2013-01-01</td>\n",
       "      <td>canada</td>\n",
       "      <td>2113</td>\n",
       "    </tr>\n",
       "    <tr>\n",
       "      <th>727</th>\n",
       "      <td>2013-07-27</td>\n",
       "      <td>canada</td>\n",
       "      <td>1070</td>\n",
       "    </tr>\n",
       "    <tr>\n",
       "      <th>728</th>\n",
       "      <td>2012-10-19</td>\n",
       "      <td>canada</td>\n",
       "      <td>1486</td>\n",
       "    </tr>\n",
       "    <tr>\n",
       "      <th>729</th>\n",
       "      <td>2012-01-15</td>\n",
       "      <td>canada</td>\n",
       "      <td>1256</td>\n",
       "    </tr>\n",
       "    <tr>\n",
       "      <th>730</th>\n",
       "      <td>2012-01-02</td>\n",
       "      <td>canada</td>\n",
       "      <td>1127</td>\n",
       "    </tr>\n",
       "  </tbody>\n",
       "</table>\n",
       "<p>731 rows × 3 columns</p>\n",
       "</div>"
      ],
      "text/plain": [
       "          date subreddit  comment_count\n",
       "0   2013-03-14    canada           1657\n",
       "1   2013-07-08    canada           1369\n",
       "2   2012-07-04    canada           1343\n",
       "3   2013-03-11    canada           1619\n",
       "4   2013-09-11    canada           1909\n",
       "..         ...       ...            ...\n",
       "726 2013-01-01    canada           2113\n",
       "727 2013-07-27    canada           1070\n",
       "728 2012-10-19    canada           1486\n",
       "729 2012-01-15    canada           1256\n",
       "730 2012-01-02    canada           1127\n",
       "\n",
       "[731 rows x 3 columns]"
      ]
     },
     "execution_count": 6,
     "metadata": {},
     "output_type": "execute_result"
    }
   ],
   "source": [
    "counts = counts[((counts['date'].dt.year == 2012) | (counts['date'].dt.year == 2013))]\n",
    "counts= counts[(counts['subreddit'] =='canada')].reset_index(drop=True)\n",
    "counts"
   ]
  },
  {
   "cell_type": "code",
   "execution_count": 7,
   "id": "1c8493a5",
   "metadata": {},
   "outputs": [],
   "source": [
    "weekend=counts[counts['date'].map(lambda x: datetime.date.isoweekday(x)==6)|counts['date'].map(lambda x: datetime.date.isoweekday(x)==7)].reset_index(drop=True)\n",
    "weekday=counts[counts['date'].map(lambda x: datetime.date.isoweekday(x)!=6)&counts['date'].map(lambda x: datetime.date.isoweekday(x)!=7)].reset_index(drop=True)"
   ]
  },
  {
   "cell_type": "code",
   "execution_count": 8,
   "id": "b12f3071",
   "metadata": {},
   "outputs": [
    {
     "name": "stdout",
     "output_type": "stream",
     "text": [
      "Ttest_indResult(statistic=-17.70431974179247, pvalue=1.300550284720791e-58)\n",
      "0.0015209196859635404\n",
      "1.0091137251707994e-07\n",
      "0.04378740989202803\n"
     ]
    }
   ],
   "source": [
    "#t-test\n",
    "print(stats.ttest_ind(weekend['comment_count'], weekday['comment_count']))\n",
    "print(stats.normaltest(weekend['comment_count']).pvalue)\n",
    "print(stats.normaltest(weekday['comment_count']).pvalue)\n",
    "print(stats.levene(weekend['comment_count'], weekday['comment_count']).pvalue)\n",
    "#weekday is normally, weekend is not.\n"
   ]
  },
  {
   "cell_type": "code",
   "execution_count": 9,
   "id": "4a229ad7",
   "metadata": {},
   "outputs": [
    {
     "data": {
      "text/plain": [
       "(array([  6.,  16.,  61., 136., 133.,  96.,  38.,  21.,   8.,   7.]),\n",
       " array([ 712. ,  961.8, 1211.6, 1461.4, 1711.2, 1961. , 2210.8, 2460.6,\n",
       "        2710.4, 2960.2, 3210. ]),\n",
       " <BarContainer object of 10 artists>)"
      ]
     },
     "execution_count": 9,
     "metadata": {},
     "output_type": "execute_result"
    },
    {
     "data": {
      "image/png": "[encoded data removed]",
      "text/plain": [
       "<Figure size 432x288 with 1 Axes>"
      ]
     },
     "metadata": {
      "needs_background": "light"
     },
     "output_type": "display_data"
    },
    {
     "data": {
      "image/png": "[encoded data removed]",
      "text/plain": [
       "<Figure size 432x288 with 1 Axes>"
      ]
     },
     "metadata": {
      "needs_background": "light"
     },
     "output_type": "display_data"
    }
   ],
   "source": [
    "plt.hist(weekend['comment_count'])\n",
    "plt.figure()\n",
    "plt.hist(weekday['comment_count'])"
   ]
  },
  {
   "cell_type": "code",
   "execution_count": 21,
   "id": "d404db7e",
   "metadata": {},
   "outputs": [
    {
     "name": "stdout",
     "output_type": "stream",
     "text": [
      "0.31493886820667\n",
      "0.00040159142006827235\n"
     ]
    },
    {
     "data": {
      "text/plain": [
       "(array([  1.,   5.,   8.,  20.,  70., 142., 140.,  90.,  33.,  13.]),\n",
       " array([6.56807791, 6.71867274, 6.86926757, 7.0198624 , 7.17045723,\n",
       "        7.32105206, 7.47164689, 7.62224172, 7.77283656, 7.92343139,\n",
       "        8.07402622]),\n",
       " <BarContainer object of 10 artists>)"
      ]
     },
     "execution_count": 21,
     "metadata": {},
     "output_type": "execute_result"
    },
    {
     "data": {
      "image/png": "[encoded data removed]",
      "text/plain": [
       "<Figure size 432x288 with 1 Axes>"
      ]
     },
     "metadata": {
      "needs_background": "light"
     },
     "output_type": "display_data"
    },
    {
     "data": {
      "image/png": "[encoded data removed]",
      "text/plain": [
       "<Figure size 432x288 with 1 Axes>"
      ]
     },
     "metadata": {
      "needs_background": "light"
     },
     "output_type": "display_data"
    }
   ],
   "source": [
    "#Fix 1 because is right skew, choose np.log, np.sqrt\n",
    "ya_transf = np.log(weekend['comment_count'])\n",
    "yb_transf = np.log(weekday['comment_count'])\n",
    "print(stats.normaltest(ya_transf).pvalue)\n",
    "print(stats.normaltest(yb_transf).pvalue)\n",
    "plt.hist(ya_transf)\n",
    "plt.figure()\n",
    "plt.hist(yb_transf)"
   ]
  },
  {
   "cell_type": "code",
   "execution_count": 20,
   "id": "b87ac2a7",
   "metadata": {},
   "outputs": [
    {
     "name": "stdout",
     "output_type": "stream",
     "text": [
      "0.10760562894666933\n",
      "0.03687221613365365\n"
     ]
    },
    {
     "data": {
      "text/plain": [
       "(array([  1.,  11.,  16.,  71., 136., 134.,  95.,  31.,  19.,   8.]),\n",
       " array([26.68332813, 29.68068151, 32.67803488, 35.67538826, 38.67274164,\n",
       "        41.67009501, 44.66744839, 47.66480177, 50.66215514, 53.65950852,\n",
       "        56.6568619 ]),\n",
       " <BarContainer object of 10 artists>)"
      ]
     },
     "execution_count": 20,
     "metadata": {},
     "output_type": "execute_result"
    },
    {
     "data": {
      "image/png": "[encoded data removed]",
      "text/plain": [
       "<Figure size 432x288 with 1 Axes>"
      ]
     },
     "metadata": {
      "needs_background": "light"
     },
     "output_type": "display_data"
    },
    {
     "data": {
      "image/png": "[encoded data removed]",
      "text/plain": [
       "<Figure size 432x288 with 1 Axes>"
      ]
     },
     "metadata": {
      "needs_background": "light"
     },
     "output_type": "display_data"
    }
   ],
   "source": [
    "ya_transf = np.sqrt(weekend['comment_count'])\n",
    "yb_transf = np.sqrt(weekday['comment_count'])\n",
    "print(stats.normaltest(ya_transf).pvalue)\n",
    "print(stats.normaltest(yb_transf).pvalue)\n",
    "plt.hist(ya_transf)\n",
    "plt.figure()\n",
    "plt.hist(yb_transf)"
   ]
  },
  {
   "cell_type": "code",
   "execution_count": 12,
   "id": "542940ad",
   "metadata": {},
   "outputs": [],
   "source": [
    "#Fix 2"
   ]
  },
  {
   "cell_type": "code",
   "execution_count": 13,
   "id": "0f477485",
   "metadata": {},
   "outputs": [],
   "source": [
    "#Fix 3"
   ]
  }
 ],
 "metadata": {
  "kernelspec": {
   "display_name": "Python 3",
   "language": "python",
   "name": "python3"
  },
  "language_info": {
   "codemirror_mode": {
    "name": "ipython",
    "version": 3
   },
   "file_extension": ".py",
   "mimetype": "text/x-python",
   "name": "python",
   "nbconvert_exporter": "python",
   "pygments_lexer": "ipython3",
   "version": "3.8.0"
  }
 },
 "nbformat": 4,
 "nbformat_minor": 5
}
