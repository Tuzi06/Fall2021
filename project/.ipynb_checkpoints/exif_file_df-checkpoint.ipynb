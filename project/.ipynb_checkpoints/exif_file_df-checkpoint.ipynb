{
 "cells": [
  {
   "cell_type": "code",
   "execution_count": 1,
   "id": "7f45465d",
   "metadata": {},
   "outputs": [],
   "source": [
    "from PIL import Image\n",
    "import pandas as pd\n",
    "import zipfile\n",
    "import os\n",
    "from PIL.ExifTags import TAGS\n",
    "from PIL.ExifTags import GPSTAGS"
   ]
  },
  {
   "cell_type": "code",
   "execution_count": 2,
   "id": "6145adff",
   "metadata": {},
   "outputs": [],
   "source": [
    "image_list = os.listdir(\"walk\")\n",
    "df = pd.DataFrame(image_list, columns = ['name'])"
   ]
  },
  {
   "cell_type": "code",
   "execution_count": 3,
   "id": "4be06e62",
   "metadata": {},
   "outputs": [],
   "source": [
    "def get_exif(filename):\n",
    "    image = Image.open(os.path.abspath(\"walk\" + \"/\" + filename))\n",
    "    exif = image._getexif()\n",
    "\n",
    "    return exif\n",
    "\n",
    "def get_date_taken(exif):\n",
    "    return exif[36867]\n",
    "\n",
    "def get_GPS_info(exif):\n",
    "    return  exif['GPSInfo']"
   ]
  },
  {
   "cell_type": "code",
   "execution_count": 4,
   "id": "58884942",
   "metadata": {},
   "outputs": [],
   "source": [
    "def get_geotagging(exif):\n",
    "    geotagging = {}\n",
    "    if exif is not None:\n",
    "        for (idx, tag) in TAGS.items():\n",
    "            if tag == 'GPSInfo':\n",
    "                if idx in exif:\n",
    "                    for (key, val) in GPSTAGS.items():\n",
    "                        if key in exif[idx]:\n",
    "                            geotagging[val] = exif[idx][key]\n",
    "    return geotagging\n",
    "\n"
   ]
  },
  {
   "cell_type": "code",
   "execution_count": 5,
   "id": "189f98e1",
   "metadata": {},
   "outputs": [],
   "source": [
    "def get_decimal_from_dms(dms, ref):\n",
    "\n",
    "        degrees = dms[0]\n",
    "        minutes = dms[1] / 60.0\n",
    "        seconds = dms[2] / 3600.0\n",
    "    \n",
    "        if ref in ['S', 'W']:\n",
    "            degrees = -degrees\n",
    "            minutes = -minutes\n",
    "            seconds = -seconds\n",
    "    \n",
    "        return round(degrees + minutes + seconds, 5)\n",
    "        \n",
    "def get_lat_coordinates(geotags):\n",
    "    lat = get_decimal_from_dms(geotags['GPSLatitude'], geotags['GPSLatitudeRef'])\n",
    "    return lat\n",
    "            \n",
    "def get_lon_coordinates(geotags):\n",
    "    lon = get_decimal_from_dms(geotags['GPSLongitude'], geotags['GPSLongitudeRef'])\n",
    "    return lon\n",
    "    "
   ]
  },
  {
   "cell_type": "code",
   "execution_count": 6,
   "id": "3d220310",
   "metadata": {},
   "outputs": [],
   "source": [
    "def get_coordinates(geotags):\n",
    "    lat = get_decimal_from_dms(geotags['GPSLatitude'], geotags['GPSLatitudeRef'])\n",
    "    lon = get_decimal_from_dms(geotags['GPSLongitude'], geotags['GPSLongitudeRef'])\n",
    "    return (lat,lon)\n"
   ]
  },
  {
   "cell_type": "code",
   "execution_count": 7,
   "id": "8342c65b",
   "metadata": {},
   "outputs": [],
   "source": [
    "def exif_file_df(file):\n",
    "    image_list = os.listdir(file)\n",
    "    df = pd.DataFrame(image_list, columns = ['name'])\n",
    "\n",
    "    df['exif'] = df['name'].apply(get_exif)\n",
    "    df['time'] = df['exif'].apply(get_date_taken)\n",
    "    df['geotags'] = df['exif'].apply(get_geotagging)\n",
    "    df['coords'] = df['geotags'].apply(get_coordinates)\n",
    "    df['lat'] = df['geotags'].apply(get_lat_coordinates)\n",
    "    df['lon'] = df['geotags'].apply(get_lon_coordinates)\n",
    "    \n",
    "    from geopy.geocoders import Nominatim\n",
    "    geolocator = Nominatim(user_agent=\"test_app\")\n",
    "    df['location'] = df['coords'].apply(geolocator.reverse)\n",
    "    df=df.drop(columns=['exif', 'geotags'])\n",
    "    df.to_csv('image_locations.csv')\n"
   ]
  },
  {
   "cell_type": "code",
   "execution_count": 9,
   "id": "74962184",
   "metadata": {},
   "outputs": [],
   "source": [
    "exif_file_df('walk')\n"
   ]
  }
 ],
 "metadata": {
  "kernelspec": {
   "display_name": "Python 3",
   "language": "python",
   "name": "python3"
  },
  "language_info": {
   "codemirror_mode": {
    "name": "ipython",
    "version": 3
   },
   "file_extension": ".py",
   "mimetype": "text/x-python",
   "name": "python",
   "nbconvert_exporter": "python",
   "pygments_lexer": "ipython3",
   "version": "3.8.0"
  }
 },
 "nbformat": 4,
 "nbformat_minor": 5
}
