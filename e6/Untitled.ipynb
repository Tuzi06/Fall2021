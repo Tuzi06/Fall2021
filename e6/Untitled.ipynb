{
 "cells": [
  {
   "cell_type": "code",
   "execution_count": 1,
   "metadata": {},
   "outputs": [
    {
     "name": "stdout",
     "output_type": "stream",
     "text": [
      "           variable     value\n",
      "0               qs1  0.002426\n",
      "1               qs1  0.002051\n",
      "2               qs1  0.001974\n",
      "3               qs1  0.001924\n",
      "4               qs1  0.001924\n",
      "..              ...       ...\n",
      "695  partition_sort  0.000970\n",
      "696  partition_sort  0.000949\n",
      "697  partition_sort  0.000956\n",
      "698  partition_sort  0.000955\n",
      "699  partition_sort  0.000965\n",
      "\n",
      "[700 rows x 2 columns]\n",
      "        Multiple Comparison of Means - Tukey HSD, FWER=0.05         \n",
      "====================================================================\n",
      "    group1         group2     meandiff p-adj   lower   upper  reject\n",
      "--------------------------------------------------------------------\n",
      "        merge1 partition_sort  -0.0007  0.001 -0.0008 -0.0007   True\n",
      "        merge1            qs1   0.0002  0.001  0.0001  0.0002   True\n",
      "        merge1            qs2   0.0005  0.001  0.0004  0.0005   True\n",
      "        merge1            qs3   0.0005  0.001  0.0004  0.0005   True\n",
      "        merge1            qs4   0.0001 0.0116     0.0  0.0001   True\n",
      "        merge1            qs5      0.0 0.4732    -0.0  0.0001  False\n",
      "partition_sort            qs1   0.0009  0.001  0.0009   0.001   True\n",
      "partition_sort            qs2   0.0012  0.001  0.0011  0.0013   True\n",
      "partition_sort            qs3   0.0012  0.001  0.0012  0.0013   True\n",
      "partition_sort            qs4   0.0008  0.001  0.0007  0.0009   True\n",
      "partition_sort            qs5   0.0008  0.001  0.0007  0.0008   True\n",
      "           qs1            qs2   0.0003  0.001  0.0002  0.0003   True\n",
      "           qs1            qs3   0.0003  0.001  0.0002  0.0003   True\n",
      "           qs1            qs4  -0.0001  0.001 -0.0002 -0.0001   True\n",
      "           qs1            qs5  -0.0002  0.001 -0.0002 -0.0001   True\n",
      "           qs2            qs3      0.0    0.9    -0.0  0.0001  False\n",
      "           qs2            qs4  -0.0004  0.001 -0.0005 -0.0003   True\n",
      "           qs2            qs5  -0.0004  0.001 -0.0005 -0.0004   True\n",
      "           qs3            qs4  -0.0004  0.001 -0.0005 -0.0004   True\n",
      "           qs3            qs5  -0.0004  0.001 -0.0005 -0.0004   True\n",
      "           qs4            qs5     -0.0 0.7121 -0.0001     0.0  False\n",
      "--------------------------------------------------------------------\n"
     ]
    },
    {
     "data": {
      "image/png": "[encoded data removed]",
      "text/plain": [
       "<Figure size 720x432 with 1 Axes>"
      ]
     },
     "metadata": {
      "needs_background": "light"
     },
     "output_type": "display_data"
    }
   ],
   "source": [
    "import pandas as pd \n",
    "from scipy import stats\n",
    "import matplotlib.pyplot as plt\n",
    "from statsmodels.stats.multicomp import pairwise_tukeyhsd\n",
    "\n",
    "data = pd.read_csv('data.csv')\n",
    "\n",
    "anova = stats.f_oneway(data['qs1'], data['qs2'], data['qs3'], data['qs4'], data['qs5'], data['merge1'], data['partition_sort']).pvalue\n",
    "\n",
    "melt = pd.melt(data)\n",
    "print(melt)\n",
    "posthoc = pairwise_tukeyhsd(melt['value'],melt['variable'],alpha =0.05)\n",
    "print(posthoc)\n",
    "\n",
    "fig = posthoc.plot_simultaneous()"
   ]
  }
 ],
 "metadata": {
  "kernelspec": {
   "display_name": "Python 3 (ipykernel)",
   "language": "python",
   "name": "python3"
  },
  "language_info": {
   "codemirror_mode": {
    "name": "ipython",
    "version": 3
   },
   "file_extension": ".py",
   "mimetype": "text/x-python",
   "name": "python",
   "nbconvert_exporter": "python",
   "pygments_lexer": "ipython3",
   "version": "3.8.10"
  }
 },
 "nbformat": 4,
 "nbformat_minor": 4
}
