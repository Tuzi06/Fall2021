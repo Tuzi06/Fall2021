{
 "cells": [
  {
   "cell_type": "code",
   "execution_count": 1,
   "id": "d4854949",
   "metadata": {},
   "outputs": [],
   "source": [
    "import numpy as np\n",
    "import pandas as pd\n"
   ]
  },
  {
   "cell_type": "code",
   "execution_count": 2,
   "id": "729ed7a6",
   "metadata": {},
   "outputs": [
    {
     "name": "stdout",
     "output_type": "stream",
     "text": [
      "         qs1       qs2       qs3       qs4       qs5    merge1 partition_sort\n",
      "0   0.011963  0.012997  0.013968  0.009968  0.010971  0.012932       0.006982\n",
      "1   0.008975  0.013963  0.012965   0.01097   0.01097   0.01097       0.007983\n",
      "2   0.011968  0.015957  0.012995  0.011935  0.011003  0.011968       0.007947\n",
      "3   0.008976  0.015927  0.015958  0.013962  0.012961   0.01097       0.006981\n",
      "4   0.008977  0.011967  0.014961  0.020947  0.013959  0.016955       0.015962\n",
      "..       ...       ...       ...       ...       ...       ...            ...\n",
      "95  0.013995  0.015957  0.015993  0.014924  0.014963  0.015953       0.007982\n",
      "96   0.01496  0.018955  0.017947  0.017953  0.016985  0.011935       0.008976\n",
      "97  0.011971   0.01895  0.016956  0.015954  0.014991  0.012965       0.009973\n",
      "98  0.012933  0.014965  0.020942  0.015954  0.014994  0.012932       0.006985\n",
      "99  0.010967  0.014992  0.013963  0.010972  0.011934  0.012967       0.006979\n",
      "\n",
      "[100 rows x 7 columns]\n"
     ]
    }
   ],
   "source": [
    "import time\n",
    "from implementations import all_implementations\n",
    "\n",
    "# (1) arrays with random integers, which are randomly sorted, \n",
    "# (2) arrays that are as large as possible, and\n",
    "# (3) being able to meaningfully analyse the results. [Note: see the restrictions below.]\n",
    "data = pd.DataFrame(columns=['qs1', 'qs2', 'qs3', 'qs4', 'qs5', 'merge1', 'partition_sort'], index=np.arange(100))\n",
    "for i in range(100):\n",
    "    random_array = np.random.randint(-500,500,1000)\n",
    "    for sort in all_implementations:\n",
    "        st = time.time()\n",
    "        res = sort(random_array)\n",
    "        en = time.time()\n",
    "        total = en - st\n",
    "        data.iloc[i][sort.__name__] = total\n",
    "    \n",
    "    \n",
    "print(data)\n"
   ]
  },
  {
   "cell_type": "code",
   "execution_count": 3,
   "id": "2f2a2b66",
   "metadata": {},
   "outputs": [],
   "source": [
    "data.to_csv('data.csv', index=False)"
   ]
  }
 ],
 "metadata": {
  "kernelspec": {
   "display_name": "Python 3",
   "language": "python",
   "name": "python3"
  },
  "language_info": {
   "codemirror_mode": {
    "name": "ipython",
    "version": 3
   },
   "file_extension": ".py",
   "mimetype": "text/x-python",
   "name": "python",
   "nbconvert_exporter": "python",
   "pygments_lexer": "ipython3",
   "version": "3.8.0"
  }
 },
 "nbformat": 4,
 "nbformat_minor": 5
}
