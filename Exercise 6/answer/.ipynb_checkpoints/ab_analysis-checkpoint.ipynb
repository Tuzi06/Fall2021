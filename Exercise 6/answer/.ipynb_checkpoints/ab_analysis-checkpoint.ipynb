{
 "cells": [
  {
   "cell_type": "code",
   "execution_count": 1,
   "id": "968808f2",
   "metadata": {},
   "outputs": [],
   "source": [
    "import sys\n",
    "import numpy as np\n",
    "import pandas as pd\n",
    "import scipy.stats as stats"
   ]
  },
  {
   "cell_type": "code",
   "execution_count": 2,
   "id": "6f09ec25",
   "metadata": {},
   "outputs": [],
   "source": [
    "OUTPUT_TEMPLATE = (\n",
    "    '\"Did more/less users use the search feature?\" p-value:  {more_users_p:.3g}\\n'\n",
    "    '\"Did users search more/less?\" p-value:  {more_searches_p:.3g} \\n'\n",
    "    '\"Did more/less instructors use the search feature?\" p-value:  {more_instr_p:.3g}\\n'\n",
    "    '\"Did instructors search more/less?\" p-value:  {more_instr_searches_p:.3g}'\n",
    ")"
   ]
  },
  {
   "cell_type": "code",
   "execution_count": 3,
   "id": "868e96e9",
   "metadata": {},
   "outputs": [],
   "source": [
    "def main():\n",
    "    searchdata_file = sys.argv[1]\n",
    "    #searchdata_file=\"searches.json\"\n",
    "    searchdata=pd.read_json(searchdata_file, orient='records', lines=True)\n",
    "    \n",
    "    #oddid is new\n",
    "    new = searchdata[searchdata['uid']%2 == 1] \n",
    "    original = searchdata[searchdata['uid']%2 == 0] \n",
    "    \n",
    "    \n",
    "    # Did more users use the search feature? (More precisely: did a different fraction of users have search count > 0?)\n",
    "    new_search=len(new[new['search_count']>0])\n",
    "    new_zero=len(new[new['search_count']==0])\n",
    "    original_search=len(original[original['search_count']>0])\n",
    "    original_zero=len(original[original['search_count']==0])\n",
    "\n",
    "    # Did users search more often? (More precisely: is the number of searches per user different?) \n",
    "    #chi-square\n",
    "    contingency = [[new_search,new_zero],[original_search,original_zero]]\n",
    "    chi1, p1, dof1, expected1 = stats.chi2_contingency(contingency)\n",
    "\n",
    "    mannwhit_p1 =stats.mannwhitneyu(new['search_count'],original['search_count']).pvalue\n",
    "    #we don't find any effect\n",
    "\n",
    "    \n",
    "    #all instructors \n",
    "    new_instructor = new[new['is_instructor'] == True]\n",
    "    original_instructor = original[original['is_instructor'] == True]\n",
    "    \n",
    "    # Did more users use the search feature? (More precisely: did a different fraction of users have search count > 0?)\n",
    "    new_search_instructor=len(new_instructor[new_instructor['search_count']>0])\n",
    "    new_zero_instructor=len(new_instructor[new_instructor['search_count']==0])\n",
    "    original_search_instructor=len(original_instructor[original_instructor['search_count']>0])\n",
    "    original_zero_instructor=len(original_instructor[original_instructor['search_count']==0])\n",
    "\n",
    "    # Did users search more often? (More precisely: is the number of searches per user different?) \n",
    "    #chi-square\n",
    "    contingency = [[new_search_instructor,new_zero_instructor],[original_search_instructor,original_zero_instructor]]\n",
    "    chi2, p2, dof2, expected2 = stats.chi2_contingency(contingency)\n",
    "    mannwhit_p2 =stats.mannwhitneyu(new_instructor['search_count'],original_instructor['search_count']).pvalue\n",
    "\n",
    "\n",
    "    print(OUTPUT_TEMPLATE.format(\n",
    "        more_users_p=p1,\n",
    "        more_searches_p=mannwhit_p1,\n",
    "        more_instr_p=p2,\n",
    "        more_instr_searches_p=mannwhit_p2,\n",
    "    ))\n"
   ]
  },
  {
   "cell_type": "code",
   "execution_count": 4,
   "id": "17d10023",
   "metadata": {},
   "outputs": [
    {
     "name": "stdout",
     "output_type": "stream",
     "text": [
      "\"Did more/less users use the search feature?\" p-value:  0.168\n",
      "\"Did users search more/less?\" p-value:  0.0706 \n",
      "\"Did more/less instructors use the search feature?\" p-value:  0.052\n",
      "\"Did instructors search more/less?\" p-value:  0.0225\n"
     ]
    }
   ],
   "source": [
    "if __name__ == '__main__':\n",
    "    main()"
   ]
  }
 ],
 "metadata": {
  "kernelspec": {
   "display_name": "Python 3",
   "language": "python",
   "name": "python3"
  },
  "language_info": {
   "codemirror_mode": {
    "name": "ipython",
    "version": 3
   },
   "file_extension": ".py",
   "mimetype": "text/x-python",
   "name": "python",
   "nbconvert_exporter": "python",
   "pygments_lexer": "ipython3",
   "version": "3.8.0"
  }
 },
 "nbformat": 4,
 "nbformat_minor": 5
}
