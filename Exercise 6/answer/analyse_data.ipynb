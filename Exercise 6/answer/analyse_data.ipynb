{
 "cells": [
  {
   "cell_type": "code",
   "execution_count": 1,
   "id": "ef688e5a",
   "metadata": {},
   "outputs": [],
   "source": [
    "import sys\n",
    "import numpy as np\n",
    "import pandas as pd\n",
    "from scipy import stats\n",
    "from statsmodels.stats.multicomp import pairwise_tukeyhsd"
   ]
  },
  {
   "cell_type": "code",
   "execution_count": 2,
   "id": "608c0c8b",
   "metadata": {},
   "outputs": [],
   "source": [
    "#data_file = sys.argv[1]\n",
    "data_file =\"data.csv\"\n",
    "data = pd.read_csv(data_file)"
   ]
  },
  {
   "cell_type": "code",
   "execution_count": 3,
   "id": "198e4321",
   "metadata": {},
   "outputs": [
    {
     "name": "stdout",
     "output_type": "stream",
     "text": [
      "F_onewayResult(statistic=34.50409141249649, pvalue=1.5099431718361843e-36)\n",
      "1.5099431718361843e-36\n"
     ]
    }
   ],
   "source": [
    "# ANOVA test, to see if any of the groups differ\n",
    "anova = stats.f_oneway(data.iloc[:,0], data.iloc[:,1], data.iloc[:,2], data.iloc[:,3], data.iloc[:,4], data.iloc[:,5], data.iloc[:,6])\n",
    "print(anova)\n",
    "print(anova.pvalue)\n",
    "#We conclude that yes: with p<0.5 , there is a difference between the means of the groups."
   ]
  },
  {
   "cell_type": "code",
   "execution_count": 4,
   "id": "bc753b0c",
   "metadata": {},
   "outputs": [
    {
     "name": "stdout",
     "output_type": "stream",
     "text": [
      "        Multiple Comparison of Means - Tukey HSD, FWER=0.05         \n",
      "====================================================================\n",
      "    group1         group2     meandiff p-adj   lower   upper  reject\n",
      "--------------------------------------------------------------------\n",
      "        merge1 partition_sort  -0.0058  0.001 -0.0076  -0.004   True\n",
      "        merge1            qs1  -0.0022 0.0073  -0.004 -0.0004   True\n",
      "        merge1            qs2   0.0015 0.1855 -0.0003  0.0033  False\n",
      "        merge1            qs3   0.0014 0.2414 -0.0004  0.0032  False\n",
      "        merge1            qs4  -0.0009 0.7393 -0.0027  0.0009  False\n",
      "        merge1            qs5  -0.0003    0.9 -0.0021  0.0015  False\n",
      "partition_sort            qs1   0.0037  0.001  0.0019  0.0055   True\n",
      "partition_sort            qs2   0.0073  0.001  0.0055  0.0091   True\n",
      "partition_sort            qs3   0.0072  0.001  0.0054   0.009   True\n",
      "partition_sort            qs4    0.005  0.001  0.0032  0.0067   True\n",
      "partition_sort            qs5   0.0055  0.001  0.0037  0.0073   True\n",
      "           qs1            qs2   0.0036  0.001  0.0018  0.0054   True\n",
      "           qs1            qs3   0.0036  0.001  0.0018  0.0054   True\n",
      "           qs1            qs4   0.0013 0.3568 -0.0005  0.0031  False\n",
      "           qs1            qs5   0.0018 0.0392  0.0001  0.0036   True\n",
      "           qs2            qs3  -0.0001    0.9 -0.0019  0.0017  False\n",
      "           qs2            qs4  -0.0024  0.002 -0.0042 -0.0006   True\n",
      "           qs2            qs5  -0.0018 0.0507 -0.0036     0.0  False\n",
      "           qs3            qs4  -0.0023 0.0033 -0.0041 -0.0005   True\n",
      "           qs3            qs5  -0.0017 0.0722 -0.0035  0.0001  False\n",
      "           qs4            qs5   0.0006    0.9 -0.0012  0.0024  False\n",
      "--------------------------------------------------------------------\n"
     ]
    },
    {
     "name": "stderr",
     "output_type": "stream",
     "text": [
      "c:\\users\\baike\\appdata\\local\\programs\\python\\python38\\lib\\site-packages\\statsmodels\\sandbox\\stats\\multicomp.py:775: UserWarning: FixedFormatter should only be used together with FixedLocator\n",
      "  ax1.set_yticklabels(np.insert(self.groupsunique.astype(str), 0, ''))\n"
     ]
    },
    {
     "data": {
      "image/png": "[encoded data removed]",
      "text/plain": [
       "<Figure size 720x432 with 1 Axes>"
      ]
     },
     "metadata": {
      "needs_background": "light"
     },
     "output_type": "display_data"
    }
   ],
   "source": [
    "# Post Hoc Analysis\n",
    "data_melt = pd.melt(data)\n",
    "posthoc = pairwise_tukeyhsd(data_melt['value'], data_melt['variable'], alpha=0.05)\n",
    "print(posthoc)\n",
    "fig = posthoc.plot_simultaneous()\n"
   ]
  },
  {
   "cell_type": "code",
   "execution_count": 5,
   "id": "b0b3a8e0",
   "metadata": {},
   "outputs": [
    {
     "name": "stderr",
     "output_type": "stream",
     "text": [
      "c:\\users\\baike\\appdata\\local\\programs\\python\\python38\\lib\\site-packages\\statsmodels\\sandbox\\stats\\multicomp.py:775: UserWarning: FixedFormatter should only be used together with FixedLocator\n",
      "  ax1.set_yticklabels(np.insert(self.groupsunique.astype(str), 0, ''))\n"
     ]
    },
    {
     "data": {
      "image/png": "[encoded data removed]",
      "text/plain": [
       "<Figure size 720x432 with 1 Axes>"
      ]
     },
     "metadata": {
      "needs_background": "light"
     },
     "output_type": "display_data"
    }
   ],
   "source": [
    "fig = posthoc.plot_simultaneous()\n"
   ]
  },
  {
   "cell_type": "code",
   "execution_count": 6,
   "id": "e6afb83e",
   "metadata": {},
   "outputs": [
    {
     "name": "stdout",
     "output_type": "stream",
     "text": [
      "qs1               0.011841\n",
      "qs2               0.015477\n",
      "qs3               0.015400\n",
      "qs4               0.013112\n",
      "qs5               0.013686\n",
      "merge1            0.014000\n",
      "partition_sort    0.008158\n",
      "dtype: float64\n"
     ]
    }
   ],
   "source": [
    "print(data.mean())"
   ]
  }
 ],
 "metadata": {
  "kernelspec": {
   "display_name": "Python 3",
   "language": "python",
   "name": "python3"
  },
  "language_info": {
   "codemirror_mode": {
    "name": "ipython",
    "version": 3
   },
   "file_extension": ".py",
   "mimetype": "text/x-python",
   "name": "python",
   "nbconvert_exporter": "python",
   "pygments_lexer": "ipython3",
   "version": "3.8.0"
  }
 },
 "nbformat": 4,
 "nbformat_minor": 5
}
