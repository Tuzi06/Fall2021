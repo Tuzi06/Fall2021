{
 "cells": [
  {
   "cell_type": "code",
   "execution_count": null,
   "id": "00b2d263",
   "metadata": {},
   "outputs": [],
   "source": [
    "import numpy as np\n",
    "import pandas as pd\n",
    "import matplotlib.pyplot as plt\n",
    "import sys\n",
    "\n",
    "from sklearn.pipeline import make_pipeline\n",
    "from sklearn.preprocessing import MinMaxScaler\n",
    "from sklearn.decomposition import PCA\n",
    "from sklearn.cluster import KMeans"
   ]
  },
  {
   "cell_type": "code",
   "execution_count": null,
   "id": "2cf7196e",
   "metadata": {},
   "outputs": [],
   "source": [
    "\n",
    "def get_pca(X):\n",
    "    \"\"\"\n",
    "    Transform data to 2D points for plotting. Should return an array with shape (n, 2).\n",
    "    \"\"\"\n",
    "    flatten_model = make_pipeline(\n",
    "        MinMaxScaler(),\n",
    "        PCA(2)\n",
    "    )\n",
    "    X2 = flatten_model.fit_transform(X)\n",
    "    assert X2.shape == (X.shape[0], 2)\n",
    "    return X2\n"
   ]
  },
  {
   "cell_type": "code",
   "execution_count": null,
   "id": "47be1728",
   "metadata": {},
   "outputs": [],
   "source": [
    "def get_clusters(X):\n",
    "    \"\"\"\n",
    "    Find clusters of the weather data.\n",
    "    \"\"\"\n",
    "    model = make_pipeline(\n",
    "        KMeans(n_clusters=10)\n",
    "    )\n",
    "    model.fit(X)\n",
    "    return model.predict(X)"
   ]
  },
  {
   "cell_type": "code",
   "execution_count": null,
   "id": "0eea7ca9",
   "metadata": {},
   "outputs": [],
   "source": [
    "def main():\n",
    "    data = pd.read_csv(sys.argv[1])\n",
    "    #data = pd.read_csv(\"monthly-data-labelled.csv\")\n",
    "\n",
    "    X = monthly_data_labelled.loc[:,'tmax-01':'snwd-12'].values\n",
    "    y = monthly_data_labelled['city'].values\n",
    "    \n",
    "    X2 = get_pca(X)\n",
    "    clusters = get_clusters(X)\n",
    "    plt.scatter(X2[:, 0], X2[:, 1], c=clusters, cmap='Set1', edgecolor='k', s=20)\n",
    "    plt.savefig('clusters.png')\n",
    "\n",
    "    df = pd.DataFrame({\n",
    "        'cluster': clusters,\n",
    "        'city': y,\n",
    "    })\n",
    "    counts = pd.crosstab(df['city'], df['cluster'])\n",
    "    print(counts)\n",
    "\n",
    "\n",
    "if __name__ == '__main__':\n",
    "    main()"
   ]
  }
 ],
 "metadata": {
  "kernelspec": {
   "display_name": "Python 3",
   "language": "python",
   "name": "python3"
  },
  "language_info": {
   "codemirror_mode": {
    "name": "ipython",
    "version": 3
   },
   "file_extension": ".py",
   "mimetype": "text/x-python",
   "name": "python",
   "nbconvert_exporter": "python",
   "pygments_lexer": "ipython3",
   "version": "3.8.0"
  }
 },
 "nbformat": 4,
 "nbformat_minor": 5
}
