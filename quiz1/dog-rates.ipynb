{
 "cells": [
  {
   "cell_type": "code",
   "execution_count": 1,
   "id": "110bc176",
   "metadata": {},
   "outputs": [],
   "source": [
    "import pandas as pd\n",
    "import datetime\n",
    "import matplotlib.pyplot as plt\n",
    "from scipy import stats\n"
   ]
  },
  {
   "cell_type": "code",
   "execution_count": 2,
   "id": "d2f394ae",
   "metadata": {},
   "outputs": [],
   "source": [
    "dog_rates_tweets= pd.read_csv('dog_rates_tweets.csv',parse_dates=False)"
   ]
  },
  {
   "cell_type": "code",
   "execution_count": 3,
   "id": "5807ad5d",
   "metadata": {},
   "outputs": [],
   "source": [
    "rating_data=dog_rates_tweets.text.str.extract(r'(\\d+(\\.\\d+)?)/10', expand=True)\n",
    "rating_data=rating_data[0].dropna(axis=0, how='all')"
   ]
  },
  {
   "cell_type": "code",
   "execution_count": 4,
   "id": "246a75d7",
   "metadata": {},
   "outputs": [],
   "source": [
    "rating_data = pd.to_numeric(rating_data)\n",
    "rating_data = rating_data[rating_data <= 25.0]"
   ]
  },
  {
   "cell_type": "code",
   "execution_count": 5,
   "id": "4e857b9f",
   "metadata": {},
   "outputs": [],
   "source": [
    "dog_rates_tweets['rating']=rating_data\n",
    "data = dog_rates_tweets.loc[rating_data.index]"
   ]
  },
  {
   "cell_type": "code",
   "execution_count": 6,
   "id": "ab465c71",
   "metadata": {},
   "outputs": [],
   "source": [
    "data['created_at']=pd.to_datetime(data['created_at'],format='%Y-%m-%d %H:%M:%S')"
   ]
  },
  {
   "cell_type": "code",
   "execution_count": 7,
   "id": "c940167e",
   "metadata": {},
   "outputs": [],
   "source": [
    "def to_timestamp(d):\n",
    "    return d.timestamp()\n",
    "data['timestamp'] = data['created_at'].apply(to_timestamp)"
   ]
  },
  {
   "cell_type": "code",
   "execution_count": 8,
   "id": "fb881914",
   "metadata": {},
   "outputs": [],
   "source": [
    "fit = stats.linregress(data['timestamp'], data['rating'])"
   ]
  },
  {
   "cell_type": "markdown",
   "id": "05b2f463",
   "metadata": {},
   "source": [
    "# Result"
   ]
  },
  {
   "cell_type": "code",
   "execution_count": 9,
   "id": "6136705d",
   "metadata": {},
   "outputs": [],
   "source": [
    "data['prediction']=data['timestamp']*fit.slope+fit.intercept"
   ]
  },
  {
   "cell_type": "code",
   "execution_count": 10,
   "id": "6a904b2c",
   "metadata": {},
   "outputs": [
    {
     "data": {
      "text/html": [
       "<div>\n",
       "<style scoped>\n",
       "    .dataframe tbody tr th:only-of-type {\n",
       "        vertical-align: middle;\n",
       "    }\n",
       "\n",
       "    .dataframe tbody tr th {\n",
       "        vertical-align: top;\n",
       "    }\n",
       "\n",
       "    .dataframe thead th {\n",
       "        text-align: right;\n",
       "    }\n",
       "</style>\n",
       "<table border=\"1\" class=\"dataframe\">\n",
       "  <thead>\n",
       "    <tr style=\"text-align: right;\">\n",
       "      <th></th>\n",
       "      <th>id</th>\n",
       "      <th>created_at</th>\n",
       "      <th>text</th>\n",
       "      <th>rating</th>\n",
       "      <th>timestamp</th>\n",
       "      <th>prediction</th>\n",
       "    </tr>\n",
       "  </thead>\n",
       "  <tbody>\n",
       "    <tr>\n",
       "      <th>2</th>\n",
       "      <td>994363623421153280</td>\n",
       "      <td>2018-05-09 23:48:56</td>\n",
       "      <td>This is Louie. He has misplaced his Cheerio. W...</td>\n",
       "      <td>14.0</td>\n",
       "      <td>1.525910e+09</td>\n",
       "      <td>13.185763</td>\n",
       "    </tr>\n",
       "    <tr>\n",
       "      <th>7</th>\n",
       "      <td>993889039714578432</td>\n",
       "      <td>2018-05-08 16:23:07</td>\n",
       "      <td>This is Manny. He hasn’t seen your croissant. ...</td>\n",
       "      <td>13.0</td>\n",
       "      <td>1.525797e+09</td>\n",
       "      <td>13.181785</td>\n",
       "    </tr>\n",
       "    <tr>\n",
       "      <th>8</th>\n",
       "      <td>993629544463642624</td>\n",
       "      <td>2018-05-07 23:11:58</td>\n",
       "      <td>This is Libby. She leap. 14/10\\n(IG: libbythef...</td>\n",
       "      <td>14.0</td>\n",
       "      <td>1.525735e+09</td>\n",
       "      <td>13.179609</td>\n",
       "    </tr>\n",
       "    <tr>\n",
       "      <th>24</th>\n",
       "      <td>992198572664860672</td>\n",
       "      <td>2018-05-04 00:25:48</td>\n",
       "      <td>This is Rosie. She thought Coachella was this ...</td>\n",
       "      <td>13.0</td>\n",
       "      <td>1.525394e+09</td>\n",
       "      <td>13.167614</td>\n",
       "    </tr>\n",
       "    <tr>\n",
       "      <th>30</th>\n",
       "      <td>991744041351090177</td>\n",
       "      <td>2018-05-02 18:19:39</td>\n",
       "      <td>This is Riley. He’ll be your chauffeur this ev...</td>\n",
       "      <td>13.0</td>\n",
       "      <td>1.525285e+09</td>\n",
       "      <td>13.163804</td>\n",
       "    </tr>\n",
       "    <tr>\n",
       "      <th>...</th>\n",
       "      <td>...</td>\n",
       "      <td>...</td>\n",
       "      <td>...</td>\n",
       "      <td>...</td>\n",
       "      <td>...</td>\n",
       "      <td>...</td>\n",
       "    </tr>\n",
       "    <tr>\n",
       "      <th>7363</th>\n",
       "      <td>1032725635888803841</td>\n",
       "      <td>2018-08-23 20:25:53</td>\n",
       "      <td>This is Noodles. He had brain surgery earlier ...</td>\n",
       "      <td>14.0</td>\n",
       "      <td>1.535056e+09</td>\n",
       "      <td>13.507338</td>\n",
       "    </tr>\n",
       "    <tr>\n",
       "      <th>7369</th>\n",
       "      <td>1032310288652152832</td>\n",
       "      <td>2018-08-22 16:55:26</td>\n",
       "      <td>This is Pingo and Nina. They are believed to b...</td>\n",
       "      <td>14.0</td>\n",
       "      <td>1.534957e+09</td>\n",
       "      <td>13.503856</td>\n",
       "    </tr>\n",
       "    <tr>\n",
       "      <th>7381</th>\n",
       "      <td>1031696422813544448</td>\n",
       "      <td>2018-08-21 00:16:09</td>\n",
       "      <td>This is Nikita. She got caught in some wild fl...</td>\n",
       "      <td>13.0</td>\n",
       "      <td>1.534811e+09</td>\n",
       "      <td>13.498710</td>\n",
       "    </tr>\n",
       "    <tr>\n",
       "      <th>7431</th>\n",
       "      <td>1029767403545288706</td>\n",
       "      <td>2018-08-15 16:30:55</td>\n",
       "      <td>This is Winston. He came home for the first ti...</td>\n",
       "      <td>14.0</td>\n",
       "      <td>1.534351e+09</td>\n",
       "      <td>13.482540</td>\n",
       "    </tr>\n",
       "    <tr>\n",
       "      <th>7433</th>\n",
       "      <td>1029550934408486912</td>\n",
       "      <td>2018-08-15 02:10:45</td>\n",
       "      <td>RT @dog_rates: Here's a doggo realizing you ca...</td>\n",
       "      <td>13.0</td>\n",
       "      <td>1.534299e+09</td>\n",
       "      <td>13.480725</td>\n",
       "    </tr>\n",
       "  </tbody>\n",
       "</table>\n",
       "<p>1669 rows × 6 columns</p>\n",
       "</div>"
      ],
      "text/plain": [
       "                       id          created_at  \\\n",
       "2      994363623421153280 2018-05-09 23:48:56   \n",
       "7      993889039714578432 2018-05-08 16:23:07   \n",
       "8      993629544463642624 2018-05-07 23:11:58   \n",
       "24     992198572664860672 2018-05-04 00:25:48   \n",
       "30     991744041351090177 2018-05-02 18:19:39   \n",
       "...                   ...                 ...   \n",
       "7363  1032725635888803841 2018-08-23 20:25:53   \n",
       "7369  1032310288652152832 2018-08-22 16:55:26   \n",
       "7381  1031696422813544448 2018-08-21 00:16:09   \n",
       "7431  1029767403545288706 2018-08-15 16:30:55   \n",
       "7433  1029550934408486912 2018-08-15 02:10:45   \n",
       "\n",
       "                                                   text  rating     timestamp  \\\n",
       "2     This is Louie. He has misplaced his Cheerio. W...    14.0  1.525910e+09   \n",
       "7     This is Manny. He hasn’t seen your croissant. ...    13.0  1.525797e+09   \n",
       "8     This is Libby. She leap. 14/10\\n(IG: libbythef...    14.0  1.525735e+09   \n",
       "24    This is Rosie. She thought Coachella was this ...    13.0  1.525394e+09   \n",
       "30    This is Riley. He’ll be your chauffeur this ev...    13.0  1.525285e+09   \n",
       "...                                                 ...     ...           ...   \n",
       "7363  This is Noodles. He had brain surgery earlier ...    14.0  1.535056e+09   \n",
       "7369  This is Pingo and Nina. They are believed to b...    14.0  1.534957e+09   \n",
       "7381  This is Nikita. She got caught in some wild fl...    13.0  1.534811e+09   \n",
       "7431  This is Winston. He came home for the first ti...    14.0  1.534351e+09   \n",
       "7433  RT @dog_rates: Here's a doggo realizing you ca...    13.0  1.534299e+09   \n",
       "\n",
       "      prediction  \n",
       "2      13.185763  \n",
       "7      13.181785  \n",
       "8      13.179609  \n",
       "24     13.167614  \n",
       "30     13.163804  \n",
       "...          ...  \n",
       "7363   13.507338  \n",
       "7369   13.503856  \n",
       "7381   13.498710  \n",
       "7431   13.482540  \n",
       "7433   13.480725  \n",
       "\n",
       "[1669 rows x 6 columns]"
      ]
     },
     "execution_count": 10,
     "metadata": {},
     "output_type": "execute_result"
    }
   ],
   "source": [
    "data"
   ]
  },
  {
   "cell_type": "code",
   "execution_count": 11,
   "id": "3c8fb588",
   "metadata": {},
   "outputs": [
    {
     "data": {
      "text/plain": [
       "(3.5159299748477226e-08, -40.46415480898918)"
      ]
     },
     "execution_count": 11,
     "metadata": {},
     "output_type": "execute_result"
    }
   ],
   "source": [
    "fit.slope, fit.intercept"
   ]
  },
  {
   "cell_type": "code",
   "execution_count": 12,
   "id": "c762b32e",
   "metadata": {},
   "outputs": [
    {
     "data": {
      "image/png": "[encoded data removed]",
      "text/plain": [
       "<Figure size 432x288 with 1 Axes>"
      ]
     },
     "metadata": {
      "needs_background": "light"
     },
     "output_type": "display_data"
    }
   ],
   "source": [
    "plt.xticks(rotation=25)\n",
    "plt.plot(data['created_at'].values, data['rating'], 'b.', alpha=0.5)\n",
    "plt.plot(data['created_at'].values, data['timestamp']*fit.slope + fit.intercept, 'r-', linewidth=3)\n",
    "plt.show()"
   ]
  }
 ],
 "metadata": {
  "kernelspec": {
   "display_name": "Python 3",
   "language": "python",
   "name": "python3"
  },
  "language_info": {
   "codemirror_mode": {
    "name": "ipython",
    "version": 3
   },
   "file_extension": ".py",
   "mimetype": "text/x-python",
   "name": "python",
   "nbconvert_exporter": "python",
   "pygments_lexer": "ipython3",
   "version": "3.8.0"
  }
 },
 "nbformat": 4,
 "nbformat_minor": 5
}
