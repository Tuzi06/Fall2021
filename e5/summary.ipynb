{
 "cells": [
  {
   "cell_type": "code",
   "execution_count": 1,
   "id": "d2669ab5-5c31-4201-be4f-1cc6145c6841",
   "metadata": {},
   "outputs": [],
   "source": [
    "import pandas as pd\n",
    "import numpy as np\n",
    "from scipy import stats\n",
    "import matplotlib.pyplot as plt"
   ]
  },
  {
   "cell_type": "code",
   "execution_count": 2,
   "id": "7826246b-61bc-4816-b268-4eb74df9ac48",
   "metadata": {},
   "outputs": [],
   "source": [
    "data1 = pd.read_csv('data-1.csv')\n",
    "data2 = pd.read_csv('data-2.csv')\n",
    "data3 = pd.read_csv('data-3.csv')\n",
    "data4 = pd.read_csv('data-4.csv')\n",
    "data5 = pd.read_csv('data-5.csv')\n",
    "data6 = pd.read_csv('data-6.csv')"
   ]
  },
  {
   "cell_type": "code",
   "execution_count": 3,
   "id": "85e991a6",
   "metadata": {},
   "outputs": [],
   "source": [
    "def process (data,name):\n",
    "    summary = pd.DataFrame({\n",
    "        'mean_x':data['x'].mean(),\n",
    "        'mean_y':data['y'].mean(),\n",
    "        'std_x': data['x'].std(),\n",
    "        'std_y': data['y'].std(),\n",
    "        'x_range': data['x'].max()-data['x'].min(),\n",
    "        'y_range': data['y'].max()-data['y'].min(),\n",
    "        'correaltion_coefficient': stats.linregress(data['x'],data['y']).rvalue\n",
    "    },index = [name]) \n",
    "    return summary"
   ]
  },
  {
   "cell_type": "code",
   "execution_count": 4,
   "id": "a355803c-36a0-4cba-80a0-ab36c423c451",
   "metadata": {},
   "outputs": [
    {
     "data": {
      "text/html": [
       "<div>\n",
       "<style scoped>\n",
       "    .dataframe tbody tr th:only-of-type {\n",
       "        vertical-align: middle;\n",
       "    }\n",
       "\n",
       "    .dataframe tbody tr th {\n",
       "        vertical-align: top;\n",
       "    }\n",
       "\n",
       "    .dataframe thead th {\n",
       "        text-align: right;\n",
       "    }\n",
       "</style>\n",
       "<table border=\"1\" class=\"dataframe\">\n",
       "  <thead>\n",
       "    <tr style=\"text-align: right;\">\n",
       "      <th></th>\n",
       "      <th>mean_x</th>\n",
       "      <th>mean_y</th>\n",
       "      <th>std_x</th>\n",
       "      <th>std_y</th>\n",
       "      <th>x_range</th>\n",
       "      <th>y_range</th>\n",
       "      <th>correaltion_coefficient</th>\n",
       "    </tr>\n",
       "  </thead>\n",
       "  <tbody>\n",
       "    <tr>\n",
       "      <th>data1</th>\n",
       "      <td>8.717696</td>\n",
       "      <td>12.522874</td>\n",
       "      <td>12.155517</td>\n",
       "      <td>6.639964</td>\n",
       "      <td>57.872933</td>\n",
       "      <td>29.94924</td>\n",
       "      <td>0.950326</td>\n",
       "    </tr>\n",
       "  </tbody>\n",
       "</table>\n",
       "</div>"
      ],
      "text/plain": [
       "         mean_x     mean_y      std_x     std_y    x_range   y_range  \\\n",
       "data1  8.717696  12.522874  12.155517  6.639964  57.872933  29.94924   \n",
       "\n",
       "       correaltion_coefficient  \n",
       "data1                 0.950326  "
      ]
     },
     "execution_count": 4,
     "metadata": {},
     "output_type": "execute_result"
    }
   ],
   "source": [
    "result1 = process(data1,'data1')\n",
    "result1"
   ]
  },
  {
   "cell_type": "code",
   "execution_count": 5,
   "id": "c08a8ee4-e216-4ed8-a01b-0e2d57741382",
   "metadata": {},
   "outputs": [
    {
     "data": {
      "text/html": [
       "<div>\n",
       "<style scoped>\n",
       "    .dataframe tbody tr th:only-of-type {\n",
       "        vertical-align: middle;\n",
       "    }\n",
       "\n",
       "    .dataframe tbody tr th {\n",
       "        vertical-align: top;\n",
       "    }\n",
       "\n",
       "    .dataframe thead th {\n",
       "        text-align: right;\n",
       "    }\n",
       "</style>\n",
       "<table border=\"1\" class=\"dataframe\">\n",
       "  <thead>\n",
       "    <tr style=\"text-align: right;\">\n",
       "      <th></th>\n",
       "      <th>mean_x</th>\n",
       "      <th>mean_y</th>\n",
       "      <th>std_x</th>\n",
       "      <th>std_y</th>\n",
       "      <th>x_range</th>\n",
       "      <th>y_range</th>\n",
       "      <th>correaltion_coefficient</th>\n",
       "    </tr>\n",
       "  </thead>\n",
       "  <tbody>\n",
       "    <tr>\n",
       "      <th>data2</th>\n",
       "      <td>-0.710787</td>\n",
       "      <td>-0.748987</td>\n",
       "      <td>11.481584</td>\n",
       "      <td>6.257918</td>\n",
       "      <td>60.918113</td>\n",
       "      <td>32.769119</td>\n",
       "      <td>0.955153</td>\n",
       "    </tr>\n",
       "  </tbody>\n",
       "</table>\n",
       "</div>"
      ],
      "text/plain": [
       "         mean_x    mean_y      std_x     std_y    x_range    y_range  \\\n",
       "data2 -0.710787 -0.748987  11.481584  6.257918  60.918113  32.769119   \n",
       "\n",
       "       correaltion_coefficient  \n",
       "data2                 0.955153  "
      ]
     },
     "execution_count": 5,
     "metadata": {},
     "output_type": "execute_result"
    }
   ],
   "source": [
    "result2 = process(data2,'data2')\n",
    "result2"
   ]
  },
  {
   "cell_type": "code",
   "execution_count": 6,
   "id": "eb0f4b62-6303-4577-bf69-6b2e13b91bde",
   "metadata": {},
   "outputs": [
    {
     "data": {
      "text/html": [
       "<div>\n",
       "<style scoped>\n",
       "    .dataframe tbody tr th:only-of-type {\n",
       "        vertical-align: middle;\n",
       "    }\n",
       "\n",
       "    .dataframe tbody tr th {\n",
       "        vertical-align: top;\n",
       "    }\n",
       "\n",
       "    .dataframe thead th {\n",
       "        text-align: right;\n",
       "    }\n",
       "</style>\n",
       "<table border=\"1\" class=\"dataframe\">\n",
       "  <thead>\n",
       "    <tr style=\"text-align: right;\">\n",
       "      <th></th>\n",
       "      <th>mean_x</th>\n",
       "      <th>mean_y</th>\n",
       "      <th>std_x</th>\n",
       "      <th>std_y</th>\n",
       "      <th>x_range</th>\n",
       "      <th>y_range</th>\n",
       "      <th>correaltion_coefficient</th>\n",
       "    </tr>\n",
       "  </thead>\n",
       "  <tbody>\n",
       "    <tr>\n",
       "      <th>data3</th>\n",
       "      <td>0.968907</td>\n",
       "      <td>8.508535</td>\n",
       "      <td>2.235558</td>\n",
       "      <td>1.149301</td>\n",
       "      <td>6.967949</td>\n",
       "      <td>3.910137</td>\n",
       "      <td>0.981937</td>\n",
       "    </tr>\n",
       "  </tbody>\n",
       "</table>\n",
       "</div>"
      ],
      "text/plain": [
       "         mean_x    mean_y     std_x     std_y   x_range   y_range  \\\n",
       "data3  0.968907  8.508535  2.235558  1.149301  6.967949  3.910137   \n",
       "\n",
       "       correaltion_coefficient  \n",
       "data3                 0.981937  "
      ]
     },
     "execution_count": 6,
     "metadata": {},
     "output_type": "execute_result"
    }
   ],
   "source": [
    "result3 = process(data3,'data3')\n",
    "result3"
   ]
  },
  {
   "cell_type": "code",
   "execution_count": 7,
   "id": "144e20c1-6c45-4a54-9b50-08d48f57ccab",
   "metadata": {},
   "outputs": [
    {
     "data": {
      "text/html": [
       "<div>\n",
       "<style scoped>\n",
       "    .dataframe tbody tr th:only-of-type {\n",
       "        vertical-align: middle;\n",
       "    }\n",
       "\n",
       "    .dataframe tbody tr th {\n",
       "        vertical-align: top;\n",
       "    }\n",
       "\n",
       "    .dataframe thead th {\n",
       "        text-align: right;\n",
       "    }\n",
       "</style>\n",
       "<table border=\"1\" class=\"dataframe\">\n",
       "  <thead>\n",
       "    <tr style=\"text-align: right;\">\n",
       "      <th></th>\n",
       "      <th>mean_x</th>\n",
       "      <th>mean_y</th>\n",
       "      <th>std_x</th>\n",
       "      <th>std_y</th>\n",
       "      <th>x_range</th>\n",
       "      <th>y_range</th>\n",
       "      <th>correaltion_coefficient</th>\n",
       "    </tr>\n",
       "  </thead>\n",
       "  <tbody>\n",
       "    <tr>\n",
       "      <th>data4</th>\n",
       "      <td>49.905086</td>\n",
       "      <td>18.553837</td>\n",
       "      <td>28.508611</td>\n",
       "      <td>16.545896</td>\n",
       "      <td>87.3767</td>\n",
       "      <td>44.56504</td>\n",
       "      <td>-0.081193</td>\n",
       "    </tr>\n",
       "  </tbody>\n",
       "</table>\n",
       "</div>"
      ],
      "text/plain": [
       "          mean_x     mean_y      std_x      std_y  x_range   y_range  \\\n",
       "data4  49.905086  18.553837  28.508611  16.545896  87.3767  44.56504   \n",
       "\n",
       "       correaltion_coefficient  \n",
       "data4                -0.081193  "
      ]
     },
     "execution_count": 7,
     "metadata": {},
     "output_type": "execute_result"
    }
   ],
   "source": [
    "result4 = process(data4,'data4')\n",
    "result4"
   ]
  },
  {
   "cell_type": "code",
   "execution_count": 8,
   "id": "edb312a7-fd30-4db6-bcc2-5e221af216be",
   "metadata": {},
   "outputs": [
    {
     "data": {
      "text/html": [
       "<div>\n",
       "<style scoped>\n",
       "    .dataframe tbody tr th:only-of-type {\n",
       "        vertical-align: middle;\n",
       "    }\n",
       "\n",
       "    .dataframe tbody tr th {\n",
       "        vertical-align: top;\n",
       "    }\n",
       "\n",
       "    .dataframe thead th {\n",
       "        text-align: right;\n",
       "    }\n",
       "</style>\n",
       "<table border=\"1\" class=\"dataframe\">\n",
       "  <thead>\n",
       "    <tr style=\"text-align: right;\">\n",
       "      <th></th>\n",
       "      <th>mean_x</th>\n",
       "      <th>mean_y</th>\n",
       "      <th>std_x</th>\n",
       "      <th>std_y</th>\n",
       "      <th>x_range</th>\n",
       "      <th>y_range</th>\n",
       "      <th>correaltion_coefficient</th>\n",
       "    </tr>\n",
       "  </thead>\n",
       "  <tbody>\n",
       "    <tr>\n",
       "      <th>data5</th>\n",
       "      <td>49.909994</td>\n",
       "      <td>18.555525</td>\n",
       "      <td>28.500001</td>\n",
       "      <td>16.540796</td>\n",
       "      <td>86.714971</td>\n",
       "      <td>49.8787</td>\n",
       "      <td>-0.088236</td>\n",
       "    </tr>\n",
       "  </tbody>\n",
       "</table>\n",
       "</div>"
      ],
      "text/plain": [
       "          mean_x     mean_y      std_x      std_y    x_range  y_range  \\\n",
       "data5  49.909994  18.555525  28.500001  16.540796  86.714971  49.8787   \n",
       "\n",
       "       correaltion_coefficient  \n",
       "data5                -0.088236  "
      ]
     },
     "execution_count": 8,
     "metadata": {},
     "output_type": "execute_result"
    }
   ],
   "source": [
    "result5 = process(data5,'data5')\n",
    "result5"
   ]
  },
  {
   "cell_type": "code",
   "execution_count": 9,
   "id": "9d696c0e-6efc-44b4-a5e9-5aa9e857e518",
   "metadata": {},
   "outputs": [
    {
     "data": {
      "text/html": [
       "<div>\n",
       "<style scoped>\n",
       "    .dataframe tbody tr th:only-of-type {\n",
       "        vertical-align: middle;\n",
       "    }\n",
       "\n",
       "    .dataframe tbody tr th {\n",
       "        vertical-align: top;\n",
       "    }\n",
       "\n",
       "    .dataframe thead th {\n",
       "        text-align: right;\n",
       "    }\n",
       "</style>\n",
       "<table border=\"1\" class=\"dataframe\">\n",
       "  <thead>\n",
       "    <tr style=\"text-align: right;\">\n",
       "      <th></th>\n",
       "      <th>mean_x</th>\n",
       "      <th>mean_y</th>\n",
       "      <th>std_x</th>\n",
       "      <th>std_y</th>\n",
       "      <th>x_range</th>\n",
       "      <th>y_range</th>\n",
       "      <th>correaltion_coefficient</th>\n",
       "    </tr>\n",
       "  </thead>\n",
       "  <tbody>\n",
       "    <tr>\n",
       "      <th>data6</th>\n",
       "      <td>7.216155</td>\n",
       "      <td>7.602215</td>\n",
       "      <td>11.921599</td>\n",
       "      <td>11.764382</td>\n",
       "      <td>59.73596</td>\n",
       "      <td>59.036231</td>\n",
       "      <td>0.935069</td>\n",
       "    </tr>\n",
       "  </tbody>\n",
       "</table>\n",
       "</div>"
      ],
      "text/plain": [
       "         mean_x    mean_y      std_x      std_y   x_range    y_range  \\\n",
       "data6  7.216155  7.602215  11.921599  11.764382  59.73596  59.036231   \n",
       "\n",
       "       correaltion_coefficient  \n",
       "data6                 0.935069  "
      ]
     },
     "execution_count": 9,
     "metadata": {},
     "output_type": "execute_result"
    }
   ],
   "source": [
    "result6 = process(data6,'data6')\n",
    "result6"
   ]
  },
  {
   "cell_type": "code",
   "execution_count": 10,
   "id": "5198394b-299e-4d2a-a0c7-d5d57f489281",
   "metadata": {},
   "outputs": [
    {
     "data": {
      "text/plain": [
       "[<matplotlib.lines.Line2D at 0x7ff18c1077c0>]"
      ]
     },
     "execution_count": 10,
     "metadata": {},
     "output_type": "execute_result"
    },
    {
     "data": {
      "image/png": "[encoded data removed]",
      "text/plain": [
       "<Figure size 432x288 with 1 Axes>"
      ]
     },
     "metadata": {
      "needs_background": "light"
     },
     "output_type": "display_data"
    }
   ],
   "source": [
    "plt.plot(data1['x'].values,data1['y'].values,'.b')"
   ]
  },
  {
   "cell_type": "code",
   "execution_count": 11,
   "id": "01b52012-9350-4fb6-89a9-df7f9cad962f",
   "metadata": {},
   "outputs": [
    {
     "data": {
      "text/plain": [
       "[<matplotlib.lines.Line2D at 0x7ff18c08da30>]"
      ]
     },
     "execution_count": 11,
     "metadata": {},
     "output_type": "execute_result"
    },
    {
     "data": {
      "image/png": "[encoded data removed]",
      "text/plain": [
       "<Figure size 432x288 with 1 Axes>"
      ]
     },
     "metadata": {
      "needs_background": "light"
     },
     "output_type": "display_data"
    }
   ],
   "source": [
    "plt.plot(data2['x'].values,data2['y'].values,'.b')"
   ]
  },
  {
   "cell_type": "code",
   "execution_count": 12,
   "id": "6a92e85c-4887-4df6-80e6-7ee050a3e579",
   "metadata": {},
   "outputs": [
    {
     "data": {
      "text/plain": [
       "[<matplotlib.lines.Line2D at 0x7ff18c07b160>]"
      ]
     },
     "execution_count": 12,
     "metadata": {},
     "output_type": "execute_result"
    },
    {
     "data": {
      "image/png": "[encoded data removed]",
      "text/plain": [
       "<Figure size 432x288 with 1 Axes>"
      ]
     },
     "metadata": {
      "needs_background": "light"
     },
     "output_type": "display_data"
    }
   ],
   "source": [
    "plt.plot(data3['x'].values,data3['y'].values,'.b')"
   ]
  },
  {
   "cell_type": "code",
   "execution_count": 13,
   "id": "9b61b855-0e10-434d-b6e3-f7947b668857",
   "metadata": {},
   "outputs": [
    {
     "data": {
      "text/plain": [
       "[<matplotlib.lines.Line2D at 0x7ff18bfc8bb0>]"
      ]
     },
     "execution_count": 13,
     "metadata": {},
     "output_type": "execute_result"
    },
    {
     "data": {
      "image/png": "[encoded data removed]",
      "text/plain": [
       "<Figure size 432x288 with 1 Axes>"
      ]
     },
     "metadata": {
      "needs_background": "light"
     },
     "output_type": "display_data"
    }
   ],
   "source": [
    "plt.plot(data4['x'].values,data4['y'].values,'.b')"
   ]
  },
  {
   "cell_type": "code",
   "execution_count": 14,
   "id": "fa7a8184-6b89-42d3-bbf7-0c3477eb56ed",
   "metadata": {},
   "outputs": [
    {
     "data": {
      "text/plain": [
       "[<matplotlib.lines.Line2D at 0x7ff18bf9f2b0>]"
      ]
     },
     "execution_count": 14,
     "metadata": {},
     "output_type": "execute_result"
    },
    {
     "data": {
      "image/png": "[encoded data removed]",
      "text/plain": [
       "<Figure size 432x288 with 1 Axes>"
      ]
     },
     "metadata": {
      "needs_background": "light"
     },
     "output_type": "display_data"
    }
   ],
   "source": [
    "plt.plot(data5['x'].values,data5['y'].values,'.b')"
   ]
  },
  {
   "cell_type": "code",
   "execution_count": 15,
   "id": "49a8384e-db94-4d50-b458-285c34c7d325",
   "metadata": {},
   "outputs": [
    {
     "data": {
      "text/plain": [
       "[<matplotlib.lines.Line2D at 0x7ff18bf66af0>]"
      ]
     },
     "execution_count": 15,
     "metadata": {},
     "output_type": "execute_result"
    },
    {
     "data": {
      "image/png": "[encoded data removed]",
      "text/plain": [
       "<Figure size 432x288 with 1 Axes>"
      ]
     },
     "metadata": {
      "needs_background": "light"
     },
     "output_type": "display_data"
    }
   ],
   "source": [
    "plt.plot(data6['x'].values,data6['y'].values,'.b')"
   ]
  }
 ],
 "metadata": {
  "interpreter": {
   "hash": "f9f85f796d01129d0dd105a088854619f454435301f6ffec2fea96ecbd9be4ac"
  },
  "kernelspec": {
   "display_name": "Python 3 (ipykernel)",
   "language": "python",
   "name": "python3"
  },
  "language_info": {
   "codemirror_mode": {
    "name": "ipython",
    "version": 3
   },
   "file_extension": ".py",
   "mimetype": "text/x-python",
   "name": "python",
   "nbconvert_exporter": "python",
   "pygments_lexer": "ipython3",
   "version": "3.8.10"
  }
 },
 "nbformat": 4,
 "nbformat_minor": 5
}
