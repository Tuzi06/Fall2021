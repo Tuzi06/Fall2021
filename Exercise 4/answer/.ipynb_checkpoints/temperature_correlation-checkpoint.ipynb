{
 "cells": [
  {
   "cell_type": "code",
   "execution_count": 1,
   "id": "cbf5b343",
   "metadata": {},
   "outputs": [],
   "source": [
    "import pandas as pd\n",
    "import sys\n",
    "import gzip\n",
    "import numpy as np\n",
    "import matplotlib.pyplot as plt\n"
   ]
  },
  {
   "cell_type": "code",
   "execution_count": 2,
   "id": "346a16de",
   "metadata": {},
   "outputs": [],
   "source": [
    "#stations_file = sys.argv[1]\n",
    "#city_file= sys.argv[2]\n",
    "#output_file = sys.argv[3]"
   ]
  },
  {
   "cell_type": "code",
   "execution_count": 3,
   "id": "82240023",
   "metadata": {},
   "outputs": [],
   "source": [
    "stations_file=\"stations.json.gz\"\n",
    "city_file = \"city_data.csv\"\n",
    "output_file = \"output.svg\""
   ]
  },
  {
   "cell_type": "code",
   "execution_count": 4,
   "id": "943f73ef",
   "metadata": {},
   "outputs": [
    {
     "data": {
      "text/html": [
       "<div>\n",
       "<style scoped>\n",
       "    .dataframe tbody tr th:only-of-type {\n",
       "        vertical-align: middle;\n",
       "    }\n",
       "\n",
       "    .dataframe tbody tr th {\n",
       "        vertical-align: top;\n",
       "    }\n",
       "\n",
       "    .dataframe thead th {\n",
       "        text-align: right;\n",
       "    }\n",
       "</style>\n",
       "<table border=\"1\" class=\"dataframe\">\n",
       "  <thead>\n",
       "    <tr style=\"text-align: right;\">\n",
       "      <th></th>\n",
       "      <th>observations</th>\n",
       "      <th>avg_tmax</th>\n",
       "      <th>station</th>\n",
       "      <th>latitude</th>\n",
       "      <th>longitude</th>\n",
       "      <th>elevation</th>\n",
       "    </tr>\n",
       "  </thead>\n",
       "  <tbody>\n",
       "    <tr>\n",
       "      <th>0</th>\n",
       "      <td>300</td>\n",
       "      <td>10.201667</td>\n",
       "      <td>CA001092970</td>\n",
       "      <td>54.4500</td>\n",
       "      <td>-124.2833</td>\n",
       "      <td>691.0</td>\n",
       "    </tr>\n",
       "    <tr>\n",
       "      <th>1</th>\n",
       "      <td>320</td>\n",
       "      <td>13.930937</td>\n",
       "      <td>CA003030529</td>\n",
       "      <td>50.0333</td>\n",
       "      <td>-113.2167</td>\n",
       "      <td>967.0</td>\n",
       "    </tr>\n",
       "    <tr>\n",
       "      <th>2</th>\n",
       "      <td>273</td>\n",
       "      <td>12.355311</td>\n",
       "      <td>CA004038116</td>\n",
       "      <td>49.0000</td>\n",
       "      <td>-108.3833</td>\n",
       "      <td>902.0</td>\n",
       "    </tr>\n",
       "    <tr>\n",
       "      <th>3</th>\n",
       "      <td>220</td>\n",
       "      <td>14.597727</td>\n",
       "      <td>CA007016840</td>\n",
       "      <td>46.5833</td>\n",
       "      <td>-72.2333</td>\n",
       "      <td>16.0</td>\n",
       "    </tr>\n",
       "    <tr>\n",
       "      <th>4</th>\n",
       "      <td>326</td>\n",
       "      <td>21.910429</td>\n",
       "      <td>USC00033466</td>\n",
       "      <td>34.5128</td>\n",
       "      <td>-93.0486</td>\n",
       "      <td>190.8</td>\n",
       "    </tr>\n",
       "    <tr>\n",
       "      <th>...</th>\n",
       "      <td>...</td>\n",
       "      <td>...</td>\n",
       "      <td>...</td>\n",
       "      <td>...</td>\n",
       "      <td>...</td>\n",
       "      <td>...</td>\n",
       "    </tr>\n",
       "    <tr>\n",
       "      <th>9414</th>\n",
       "      <td>366</td>\n",
       "      <td>15.477049</td>\n",
       "      <td>USW00024130</td>\n",
       "      <td>44.8428</td>\n",
       "      <td>-117.8086</td>\n",
       "      <td>1024.4</td>\n",
       "    </tr>\n",
       "    <tr>\n",
       "      <th>9415</th>\n",
       "      <td>366</td>\n",
       "      <td>15.690164</td>\n",
       "      <td>USW00054756</td>\n",
       "      <td>42.5700</td>\n",
       "      <td>-72.2911</td>\n",
       "      <td>169.2</td>\n",
       "    </tr>\n",
       "    <tr>\n",
       "      <th>9416</th>\n",
       "      <td>366</td>\n",
       "      <td>15.534699</td>\n",
       "      <td>USW00054791</td>\n",
       "      <td>43.2781</td>\n",
       "      <td>-70.9222</td>\n",
       "      <td>98.5</td>\n",
       "    </tr>\n",
       "    <tr>\n",
       "      <th>9417</th>\n",
       "      <td>352</td>\n",
       "      <td>18.325852</td>\n",
       "      <td>USW00093786</td>\n",
       "      <td>38.3083</td>\n",
       "      <td>-75.1239</td>\n",
       "      <td>3.7</td>\n",
       "    </tr>\n",
       "    <tr>\n",
       "      <th>9418</th>\n",
       "      <td>354</td>\n",
       "      <td>12.986723</td>\n",
       "      <td>USW00094898</td>\n",
       "      <td>44.0219</td>\n",
       "      <td>-82.7931</td>\n",
       "      <td>179.8</td>\n",
       "    </tr>\n",
       "  </tbody>\n",
       "</table>\n",
       "<p>9419 rows × 6 columns</p>\n",
       "</div>"
      ],
      "text/plain": [
       "      observations   avg_tmax      station  latitude  longitude  elevation\n",
       "0              300  10.201667  CA001092970   54.4500  -124.2833      691.0\n",
       "1              320  13.930937  CA003030529   50.0333  -113.2167      967.0\n",
       "2              273  12.355311  CA004038116   49.0000  -108.3833      902.0\n",
       "3              220  14.597727  CA007016840   46.5833   -72.2333       16.0\n",
       "4              326  21.910429  USC00033466   34.5128   -93.0486      190.8\n",
       "...            ...        ...          ...       ...        ...        ...\n",
       "9414           366  15.477049  USW00024130   44.8428  -117.8086     1024.4\n",
       "9415           366  15.690164  USW00054756   42.5700   -72.2911      169.2\n",
       "9416           366  15.534699  USW00054791   43.2781   -70.9222       98.5\n",
       "9417           352  18.325852  USW00093786   38.3083   -75.1239        3.7\n",
       "9418           354  12.986723  USW00094898   44.0219   -82.7931      179.8\n",
       "\n",
       "[9419 rows x 6 columns]"
      ]
     },
     "execution_count": 4,
     "metadata": {},
     "output_type": "execute_result"
    }
   ],
   "source": [
    "stations = pd.read_json(stations_file, lines=True)\n",
    "stations['avg_tmax']=stations['avg_tmax']/10\n",
    "city_data =pd.read_csv(city_file)\n",
    "stations"
   ]
  },
  {
   "cell_type": "code",
   "execution_count": 5,
   "id": "417fe10b",
   "metadata": {},
   "outputs": [],
   "source": [
    "city_data.dropna(subset=[\"population\"],inplace=True)\n",
    "city_data.dropna(subset=[\"area\"],inplace=True)\n",
    "city_data['area']=city_data['area']/1000000\n",
    "city_data = city_data[city_data.area <= 10000]\n",
    "city_data=city_data.reset_index(drop=True)\n",
    "city_data['density']=city_data['population']/city_data['area']"
   ]
  },
  {
   "cell_type": "code",
   "execution_count": 6,
   "id": "e1c0af06",
   "metadata": {},
   "outputs": [],
   "source": [
    "def distance(city, stations):\n",
    "    from math import radians, cos, sin, asin, sqrt, pi\n",
    "    R = 6371 # Radius of the earth in km\n",
    "  \n",
    "    dLat = np.deg2rad(stations['latitude'] - city['latitude'])\n",
    "    dLon = np.deg2rad(stations['longitude'] - city['longitude'])\n",
    "    #a = np.sin(dLat/2) * np.sin(dLat/2)+np.cos(np.deg2rad(lat1)) * np.cos(np.deg2rad(lat2)) * np.sin(dLon/2) * np.sin(dLon/2)\n",
    "    x =0.5 -np.cos(dLat)/2+np.cos(np.deg2rad(city['latitude']))* np.cos(np.deg2rad(stations['latitude'])) * (1-np.cos(dLon))/2\n",
    "    y = 2*R * np.arcsin(np.sqrt(x))\n",
    "    \n",
    "    return(y)"
   ]
  },
  {
   "cell_type": "code",
   "execution_count": 7,
   "id": "d1b8d306",
   "metadata": {},
   "outputs": [],
   "source": [
    "def best_tmax(city, stations):\n",
    "    stations['distance'] = distance(city, stations)\n",
    "    station = stations[stations['distance'] == stations['distance'].min()]\n",
    "    station = station.reset_index(drop= True)\n",
    "\n",
    "    result = station.loc[0, 'avg_tmax']\n",
    "\n",
    "    return result\n"
   ]
  },
  {
   "cell_type": "code",
   "execution_count": 8,
   "id": "244deaa5",
   "metadata": {},
   "outputs": [],
   "source": [
    "city_data['avg_tmax'] = city_data.apply(best_tmax, axis=1, stations=stations)"
   ]
  },
  {
   "cell_type": "code",
   "execution_count": 9,
   "id": "8b585f1b",
   "metadata": {},
   "outputs": [
    {
     "data": {
      "image/png": "[encoded data removed]",
      "text/plain": [
       "<Figure size 432x288 with 1 Axes>"
      ]
     },
     "metadata": {
      "needs_background": "light"
     },
     "output_type": "display_data"
    }
   ],
   "source": [
    "plt.scatter(city_data['avg_tmax'], city_data['population'])\n",
    "plt.title('Temperature vs Population Density')\n",
    "plt.xlabel('Avg Max Temperature (\\u00b0C)')\n",
    "plt.ylabel('Population Density (people/km\\u00b2)')\n",
    "plt.savefig(output_file)"
   ]
  }
 ],
 "metadata": {
  "kernelspec": {
   "display_name": "Python 3",
   "language": "python",
   "name": "python3"
  },
  "language_info": {
   "codemirror_mode": {
    "name": "ipython",
    "version": 3
   },
   "file_extension": ".py",
   "mimetype": "text/x-python",
   "name": "python",
   "nbconvert_exporter": "python",
   "pygments_lexer": "ipython3",
   "version": "3.8.0"
  }
 },
 "nbformat": 4,
 "nbformat_minor": 5
}
