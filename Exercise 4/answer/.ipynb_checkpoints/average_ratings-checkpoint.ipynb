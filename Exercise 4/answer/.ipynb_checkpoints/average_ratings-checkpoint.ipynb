{
 "cells": [
  {
   "cell_type": "code",
   "execution_count": 1,
   "id": "29d846e1",
   "metadata": {},
   "outputs": [],
   "source": [
    "import pandas as pd\n",
    "import difflib\n",
    "import sys"
   ]
  },
  {
   "cell_type": "code",
   "execution_count": null,
   "id": "8145683f",
   "metadata": {},
   "outputs": [],
   "source": [
    "movie_list = sys.argv[1]\n",
    "movie_ratings = sys.argv[2]\n",
    "output_file = sys.argv[3]"
   ]
  },
  {
   "cell_type": "code",
   "execution_count": 2,
   "id": "c9415f52",
   "metadata": {},
   "outputs": [],
   "source": [
    "colnames=['title']\n",
    "movie_list=pd.read_csv(movie_list, header=None, names=colnames)"
   ]
  },
  {
   "cell_type": "code",
   "execution_count": 3,
   "id": "3ec68350",
   "metadata": {},
   "outputs": [],
   "source": [
    "movie_ratings=pd.read_csv(movie_ratings)"
   ]
  },
  {
   "cell_type": "code",
   "execution_count": 4,
   "id": "bad97a61",
   "metadata": {},
   "outputs": [],
   "source": [
    "def get_movie_title(word):\n",
    "    matches = difflib.get_close_matches(word, movie_list['title'], n=500,cutoff=0.6)\n",
    "    return matches"
   ]
  },
  {
   "cell_type": "code",
   "execution_count": 5,
   "id": "1f746c12",
   "metadata": {},
   "outputs": [],
   "source": [
    "movie_ratings['title']=movie_ratings['title'].apply(lambda title: get_movie_title(title))\n",
    "movie_ratings['title']=movie_ratings.title.apply(''.join)\n"
   ]
  },
  {
   "cell_type": "code",
   "execution_count": 6,
   "id": "b4069c8c",
   "metadata": {},
   "outputs": [],
   "source": [
    "movie_ratings = movie_ratings[movie_ratings.title != ''] \n",
    "movie_ratings = movie_ratings.reset_index(drop=True)\n"
   ]
  },
  {
   "cell_type": "code",
   "execution_count": 7,
   "id": "577ba2a7",
   "metadata": {},
   "outputs": [],
   "source": [
    "movie_ratings = movie_ratings.groupby('title', 0).mean().reset_index()\n"
   ]
  },
  {
   "cell_type": "code",
   "execution_count": 8,
   "id": "9592ce69",
   "metadata": {},
   "outputs": [],
   "source": [
    "output = movie_list.merge(movie_ratings, on='title')\n",
    "output['rating'] = output['rating'].round(2)\n",
    "output.to_csv(output_file)"
   ]
  }
 ],
 "metadata": {
  "kernelspec": {
   "display_name": "Python 3",
   "language": "python",
   "name": "python3"
  },
  "language_info": {
   "codemirror_mode": {
    "name": "ipython",
    "version": 3
   },
   "file_extension": ".py",
   "mimetype": "text/x-python",
   "name": "python",
   "nbconvert_exporter": "python",
   "pygments_lexer": "ipython3",
   "version": "3.8.0"
  }
 },
 "nbformat": 4,
 "nbformat_minor": 5
}
