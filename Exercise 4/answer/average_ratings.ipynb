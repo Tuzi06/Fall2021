{
 "cells": [
  {
   "cell_type": "code",
   "execution_count": 1,
   "id": "29d846e1",
   "metadata": {},
   "outputs": [],
   "source": [
    "import pandas as pd\n",
    "import difflib\n",
    "import sys"
   ]
  },
  {
   "cell_type": "code",
   "execution_count": 2,
   "id": "8145683f",
   "metadata": {},
   "outputs": [
    {
     "ename": "IndexError",
     "evalue": "list index out of range",
     "output_type": "error",
     "traceback": [
      "\u001b[1;31m---------------------------------------------------------------------------\u001b[0m",
      "\u001b[1;31mIndexError\u001b[0m                                Traceback (most recent call last)",
      "\u001b[1;32m<ipython-input-2-e8f148a2240f>\u001b[0m in \u001b[0;36m<module>\u001b[1;34m\u001b[0m\n\u001b[0;32m      1\u001b[0m \u001b[0mmovie_list\u001b[0m \u001b[1;33m=\u001b[0m \u001b[0msys\u001b[0m\u001b[1;33m.\u001b[0m\u001b[0margv\u001b[0m\u001b[1;33m[\u001b[0m\u001b[1;36m1\u001b[0m\u001b[1;33m]\u001b[0m\u001b[1;33m\u001b[0m\u001b[1;33m\u001b[0m\u001b[0m\n\u001b[0;32m      2\u001b[0m \u001b[0mmovie_ratings\u001b[0m \u001b[1;33m=\u001b[0m \u001b[0msys\u001b[0m\u001b[1;33m.\u001b[0m\u001b[0margv\u001b[0m\u001b[1;33m[\u001b[0m\u001b[1;36m2\u001b[0m\u001b[1;33m]\u001b[0m\u001b[1;33m\u001b[0m\u001b[1;33m\u001b[0m\u001b[0m\n\u001b[1;32m----> 3\u001b[1;33m \u001b[0moutput_file\u001b[0m \u001b[1;33m=\u001b[0m \u001b[0msys\u001b[0m\u001b[1;33m.\u001b[0m\u001b[0margv\u001b[0m\u001b[1;33m[\u001b[0m\u001b[1;36m3\u001b[0m\u001b[1;33m]\u001b[0m\u001b[1;33m\u001b[0m\u001b[1;33m\u001b[0m\u001b[0m\n\u001b[0m",
      "\u001b[1;31mIndexError\u001b[0m: list index out of range"
     ]
    }
   ],
   "source": [
    "movie_list = sys.argv[1]\n",
    "movie_ratings = sys.argv[2]\n",
    "output_file = sys.argv[3]"
   ]
  },
  {
   "cell_type": "code",
   "execution_count": null,
   "id": "c9415f52",
   "metadata": {},
   "outputs": [],
   "source": [
    "colnames=['title']\n",
    "movie_list=pd.read_csv(movie_list, header=None, names=colnames)"
   ]
  },
  {
   "cell_type": "code",
   "execution_count": null,
   "id": "3ec68350",
   "metadata": {},
   "outputs": [],
   "source": [
    "movie_ratings=pd.read_csv(movie_ratings)"
   ]
  },
  {
   "cell_type": "code",
   "execution_count": null,
   "id": "bad97a61",
   "metadata": {},
   "outputs": [],
   "source": [
    "def get_movie_title(word):\n",
    "    matches = difflib.get_close_matches(word, movie_list['title'], n=500,cutoff=0.6)\n",
    "    return matches"
   ]
  },
  {
   "cell_type": "code",
   "execution_count": null,
   "id": "1f746c12",
   "metadata": {},
   "outputs": [],
   "source": [
    "movie_ratings['title']=movie_ratings['title'].apply(lambda title: get_movie_title(title))\n",
    "movie_ratings['title']=movie_ratings.title.apply(''.join)\n"
   ]
  },
  {
   "cell_type": "code",
   "execution_count": null,
   "id": "b4069c8c",
   "metadata": {},
   "outputs": [],
   "source": [
    "movie_ratings = movie_ratings[movie_ratings.title != ''] \n",
    "movie_ratings = movie_ratings.reset_index(drop=True)\n"
   ]
  },
  {
   "cell_type": "code",
   "execution_count": null,
   "id": "577ba2a7",
   "metadata": {},
   "outputs": [],
   "source": [
    "movie_ratings = movie_ratings.groupby('title', 0).mean().reset_index()\n"
   ]
  },
  {
   "cell_type": "code",
   "execution_count": null,
   "id": "9592ce69",
   "metadata": {},
   "outputs": [],
   "source": [
    "output = movie_list.merge(movie_ratings, on='title')\n",
    "output['rating'] = output['rating'].round(2)\n",
    "output.to_csv(output_file)"
   ]
  }
 ],
 "metadata": {
  "kernelspec": {
   "display_name": "Python 3",
   "language": "python",
   "name": "python3"
  },
  "language_info": {
   "codemirror_mode": {
    "name": "ipython",
    "version": 3
   },
   "file_extension": ".py",
   "mimetype": "text/x-python",
   "name": "python",
   "nbconvert_exporter": "python",
   "pygments_lexer": "ipython3",
   "version": "3.8.0"
  }
 },
 "nbformat": 4,
 "nbformat_minor": 5
}
