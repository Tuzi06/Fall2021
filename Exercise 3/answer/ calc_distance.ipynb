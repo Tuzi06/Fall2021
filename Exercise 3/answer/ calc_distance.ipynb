{
 "cells": [
  {
   "cell_type": "code",
   "execution_count": 1,
   "id": "286a22d4",
   "metadata": {},
   "outputs": [],
   "source": [
    "import sys\n",
    "import pandas as pd\n",
    "import numpy as np\n",
    "from pykalman import KalmanFilter"
   ]
  },
  {
   "cell_type": "code",
   "execution_count": 2,
   "id": "353c2d62",
   "metadata": {},
   "outputs": [],
   "source": [
    "def output_gpx(points, output_filename):\n",
    "    \"\"\"\n",
    "    Output a GPX file with latitude and longitude from the points DataFrame.\n",
    "    \"\"\"\n",
    "    from xml.dom.minidom import getDOMImplementation\n",
    "    def append_trkpt(pt, trkseg, doc):\n",
    "        trkpt = doc.createElement('trkpt')\n",
    "        trkpt.setAttribute('lat', '%.8f' % (pt['lat']))\n",
    "        trkpt.setAttribute('lon', '%.8f' % (pt['lon']))\n",
    "        trkseg.appendChild(trkpt)\n",
    "    \n",
    "    doc = getDOMImplementation().createDocument(None, 'gpx', None)\n",
    "    trk = doc.createElement('trk')\n",
    "    doc.documentElement.appendChild(trk)\n",
    "    trkseg = doc.createElement('trkseg')\n",
    "    trk.appendChild(trkseg)\n",
    "    \n",
    "    points.apply(append_trkpt, axis=1, trkseg=trkseg, doc=doc)\n",
    "    \n",
    "    with open(output_filename, 'w') as fh:\n",
    "        doc.writexml(fh, indent=' ')\n"
   ]
  },
  {
   "cell_type": "code",
   "execution_count": 3,
   "id": "f5f81f87",
   "metadata": {},
   "outputs": [],
   "source": [
    "#Read the XML\n",
    "def get_data(filename):\n",
    "    from xml.dom.minidom import parse, parseString\n",
    "    GPS_df = pd.DataFrame(columns=['lat','lon'])\n",
    "    #GPS_df.lat=[1,3,4]\n",
    "    \n",
    "    file_parse =parse(filename)\n",
    "    #print(file_parse.nodeName)\n",
    "    #file_parse.firstChild.tagName\n",
    "    file_elem = file_parse.getElementsByTagName('trkpt')\n",
    "    for i in file_elem:\n",
    "        temp1=i.getAttribute('lat')\n",
    "        temp2=i.getAttribute('lon')\n",
    "        GPS_df = GPS_df.append(pd.Series([temp1, temp2], index=['lat', 'lon']), ignore_index=True)\n",
    "    \n",
    "    GPS_df['lat'] = GPS_df['lat'].values.astype(float)\n",
    "    GPS_df['lon'] = GPS_df['lon'].values.astype(float)\n",
    "    \n",
    "    return GPS_df\n",
    "    "
   ]
  },
  {
   "cell_type": "code",
   "execution_count": 4,
   "id": "05d60c79",
   "metadata": {},
   "outputs": [],
   "source": [
    "#  calculate distance\n",
    "#https://stackoverflow.com/questions/27928/calculate-distance-between-two-latitude-longitude-points-haversine-formula/21623206\n",
    "\n",
    "def distance(data):\n",
    "    from math import radians, cos, sin, asin, sqrt, pi\n",
    "    R = 6371 # Radius of the earth in km\n",
    "    lat1=data['lat'].values.astype(float)\n",
    "    lon1=data['lon'].values.astype(float)\n",
    "    lat2 = data['lat'].shift(-1,fill_value=0)\n",
    "    lon2 = data['lon'].shift(-1,fill_value=0)\n",
    "    dLat = np.deg2rad(lat2 - lat1)\n",
    "    dLon = np.deg2rad(lon2 - lon1)\n",
    "    #a = np.sin(dLat/2) * np.sin(dLat/2)+np.cos(np.deg2rad(lat1)) * np.cos(np.deg2rad(lat2)) * np.sin(dLon/2) * np.sin(dLon/2)\n",
    "    x =0.5 -np.cos(dLat)/2+np.cos(np.deg2rad(lat1))* np.cos(np.deg2rad(lat2)) * (1-np.cos(dLon))/2\n",
    "    y = 2*R * np.arcsin(np.sqrt(x))\n",
    "    \n",
    "    arr_result = y[:-1]\n",
    "    result = np.sum(arr_result)*1000\n",
    "    \n",
    "    return(result)\n"
   ]
  },
  {
   "cell_type": "code",
   "execution_count": 5,
   "id": "f84d2c1b",
   "metadata": {},
   "outputs": [],
   "source": [
    "#  Kalman Filtering\n",
    "def smooth(points):\n",
    "    initial_state = points.iloc[0]\n",
    "    observation_covariance = np.diag([2/100000,2/100000]) ** 2\n",
    "    transition_covariance = np.diag([1/100000,1/100000]) ** 2\n",
    "    transition_matrix = [[1,0],[0,1]]\n",
    "    kf = KalmanFilter(initial_state_mean=initial_state, \n",
    "                      initial_state_covariance=observation_covariance, \n",
    "                      observation_covariance=observation_covariance, \n",
    "                      transition_covariance=transition_covariance, \n",
    "                      transition_matrices=transition_matrix)\n",
    "    \n",
    "    \n",
    "    x,y = kf.smooth(points)\n",
    "    arr = np.array(x)\n",
    "    data_frame = pd.DataFrame(arr, columns=['lat','lon'])\n",
    "    \n",
    "    return data_frame"
   ]
  },
  {
   "cell_type": "code",
   "execution_count": 6,
   "id": "06c331bc",
   "metadata": {},
   "outputs": [
    {
     "name": "stdout",
     "output_type": "stream",
     "text": [
      "Unfiltered distance: 3186.44\n",
      "Filtered distance: 1373.30\n"
     ]
    }
   ],
   "source": [
    "def main():\n",
    "    #points = get_data(sys.argv[1])\n",
    "    points = get_data(\"walk1.gpx\")\n",
    "    print('Unfiltered distance: %0.2f' % (distance(points),))\n",
    "    \n",
    "    smoothed_points = smooth(points)\n",
    "    print('Filtered distance: %0.2f' % (distance(smoothed_points),))\n",
    "    output_gpx(smoothed_points, 'out.gpx')\n",
    "\n",
    "\n",
    "if __name__ == '__main__':\n",
    "    main()\n"
   ]
  },
  {
   "cell_type": "code",
   "execution_count": 7,
   "id": "b9cac75e",
   "metadata": {},
   "outputs": [
    {
     "name": "stdout",
     "output_type": "stream",
     "text": [
      "         lat         lon\n",
      "1  49.280222 -123.005437\n",
      "2  49.280231 -123.005601\n",
      "3  49.280391 -123.006407\n",
      "4  49.280211 -123.005965\n",
      "5  49.280399 -123.006105\n",
      "6  49.280162 -123.006311\n",
      "7  49.280399 -123.006105\n",
      "8  49.280190 -123.006548\n",
      "9  49.280222 -123.006656\n"
     ]
    }
   ],
   "source": [
    "    points = get_data(\"walk1.gpx\")\n",
    "    print(points[1:10])\n"
   ]
  }
 ],
 "metadata": {
  "kernelspec": {
   "display_name": "Python 3",
   "language": "python",
   "name": "python3"
  },
  "language_info": {
   "codemirror_mode": {
    "name": "ipython",
    "version": 3
   },
   "file_extension": ".py",
   "mimetype": "text/x-python",
   "name": "python",
   "nbconvert_exporter": "python",
   "pygments_lexer": "ipython3",
   "version": "3.8.0"
  }
 },
 "nbformat": 4,
 "nbformat_minor": 5
}
