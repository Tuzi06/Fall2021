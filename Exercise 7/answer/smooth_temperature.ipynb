{
 "cells": [
  {
   "cell_type": "code",
   "execution_count": 1,
   "id": "93326800",
   "metadata": {},
   "outputs": [],
   "source": [
    "import numpy as np\n",
    "import pandas as pd\n",
    "import matplotlib.pyplot as plt\n",
    "import sys\n",
    "from pykalman import KalmanFilter\n",
    "from sklearn.linear_model import LinearRegression"
   ]
  },
  {
   "cell_type": "code",
   "execution_count": 2,
   "id": "40da541b",
   "metadata": {},
   "outputs": [],
   "source": [
    "X_columns = ['temperature', 'cpu_percent', 'fan_rpm', 'sys_load_1', 'cpu_freq']\n",
    "y_column = 'next_temp'"
   ]
  },
  {
   "cell_type": "code",
   "execution_count": 3,
   "id": "fac5fc86",
   "metadata": {},
   "outputs": [],
   "source": [
    "def get_data(filename):\n",
    "    \"\"\"\n",
    "    Read the given CSV file. Returns sysinfo DataFrame with target (next temperature) column created.\n",
    "    \"\"\"\n",
    "    sysinfo = pd.read_csv(filename, parse_dates=['timestamp'])\n",
    "    \n",
    "    # TODO: add the column that we want to predict: the temperatures from the *next* time step.\n",
    "    sysinfo[y_column] = sysinfo['temperature'] # should be the temperature value from the next row\n",
    "    sysinfo = sysinfo[sysinfo[y_column].notnull()] # the last row should have y_column null: no next temp known\n",
    "    return sysinfo\n"
   ]
  },
  {
   "cell_type": "code",
   "execution_count": 4,
   "id": "1ebcee46",
   "metadata": {},
   "outputs": [],
   "source": [
    "def get_trained_coefficients(X_train, y_train):\n",
    "    \"\"\"\n",
    "    Create and train a model based on the training_data_file data.\n",
    "\n",
    "    Return the model, and the list of coefficients for the 'X_columns' variables in the regression.\n",
    "    \"\"\"\n",
    "    \n",
    "    # TODO: create regression model and train.\n",
    "    model =  LinearRegression(fit_intercept=False)\n",
    "    model.fit(X_train, y_train)\n",
    "    coefficients = model.coef_\n",
    "    #print(model.score(X_valid, y_valid))\n",
    "\n",
    "    return model, coefficients"
   ]
  },
  {
   "cell_type": "code",
   "execution_count": 5,
   "id": "d90c43ad",
   "metadata": {},
   "outputs": [],
   "source": [
    "def output_regression(coefficients):\n",
    "    regress = ' + '.join('%.3g*%s' % (coef, col) for col, coef in zip(X_columns, coefficients))\n",
    "    print('next_temp = ' + regress)"
   ]
  },
  {
   "cell_type": "code",
   "execution_count": 6,
   "id": "8c6b3dba",
   "metadata": {},
   "outputs": [],
   "source": [
    "def plot_errors(model, X_valid, y_valid):\n",
    "    residuals = y_valid - model.predict(X_valid)\n",
    "    plt.hist(residuals, bins=100)\n",
    "    plt.savefig('test_errors.png')\n",
    "    plt.close()\n"
   ]
  },
  {
   "cell_type": "code",
   "execution_count": 7,
   "id": "96296894",
   "metadata": {},
   "outputs": [],
   "source": [
    "\n",
    "def smooth_test(coef, sysinfo, outfile):\n",
    "    X_valid, y_valid = sysinfo[X_columns], sysinfo[y_column]\n",
    "    \n",
    "    # feel free to tweak these if you think it helps.\n",
    "    transition_stddev = 0.5\n",
    "    observation_stddev = 1.0\n",
    "\n",
    "    dims = X_valid.shape[-1]\n",
    "    initial = X_valid.iloc[0]\n",
    "    observation_covariance = np.diag([observation_stddev, 2, 10, 1, 100]) ** 2\n",
    "    transition_covariance = np.diag([transition_stddev, 80, 100, 10, 1000]) ** 2\n",
    "    \n",
    "    # Transition = identity for all variables, except we'll replace the top row\n",
    "    # to make a better prediction, which was the point of all this.\n",
    "    transition = np.identity(dims) # identity matrix, except...\n",
    "    \n",
    "    # TODO: replace the first row of transition to use the coefficients we just calculated (which were passed into this function as coef.).\n",
    "\n",
    "    transition[0] = coef\n",
    "\n",
    "    kf = KalmanFilter(\n",
    "        initial_state_mean=initial,\n",
    "        initial_state_covariance=observation_covariance,\n",
    "        observation_covariance=observation_covariance,\n",
    "        transition_covariance=transition_covariance,\n",
    "        transition_matrices=transition,\n",
    "    )\n",
    "\n",
    "    kalman_smoothed, _ = kf.smooth(X_valid)\n",
    "\n",
    "    plt.figure(figsize=(15, 6))\n",
    "    plt.plot(sysinfo['timestamp'], sysinfo['temperature'], 'b.', alpha=0.5)\n",
    "    plt.plot(sysinfo['timestamp'], kalman_smoothed[:, 0], 'g-')\n",
    "    plt.savefig(outfile)\n",
    "    plt.close()\n",
    "\n"
   ]
  },
  {
   "cell_type": "code",
   "execution_count": 8,
   "id": "0bc0a375",
   "metadata": {},
   "outputs": [
    {
     "name": "stdout",
     "output_type": "stream",
     "text": [
      "next_temp = 1*temperature + -3.42e-17*cpu_percent + -1.83e-17*fan_rpm + -7.59e-16*sys_load_1 + 1.58e-17*cpu_freq\n"
     ]
    }
   ],
   "source": [
    "def main(training_file, validation_file):\n",
    "    train = get_data(training_file)\n",
    "    valid = get_data(validation_file)\n",
    "    X_train, y_train = train[X_columns], train[y_column]\n",
    "    X_valid, y_valid = valid[X_columns], valid[y_column]\n",
    "\n",
    "    model, coefficients = get_trained_coefficients(X_train, y_train)\n",
    "    output_regression(coefficients)\n",
    "    #smooth_test(coefficients, train, 'train.png')\n",
    "\n",
    "    #print(\"Training score: %g\\nValidation score: %g\" % (model.score(X_train, y_train), model.score(X_valid, y_valid)))\n",
    "\n",
    "    plot_errors(model, X_valid, y_valid)\n",
    "    smooth_test(coefficients, valid, 'valid.png')\n",
    "\n",
    "\n",
    "if __name__ == '__main__':\n",
    "    #main(\"sysinfo-train.csv\", \"sysinfo-valid.csv\")\n",
    "    main(sys.argv[1], sys.argv[2])"
   ]
  }
 ],
 "metadata": {
  "kernelspec": {
   "display_name": "Python 3",
   "language": "python",
   "name": "python3"
  },
  "language_info": {
   "codemirror_mode": {
    "name": "ipython",
    "version": 3
   },
   "file_extension": ".py",
   "mimetype": "text/x-python",
   "name": "python",
   "nbconvert_exporter": "python",
   "pygments_lexer": "ipython3",
   "version": "3.8.0"
  }
 },
 "nbformat": 4,
 "nbformat_minor": 5
}
